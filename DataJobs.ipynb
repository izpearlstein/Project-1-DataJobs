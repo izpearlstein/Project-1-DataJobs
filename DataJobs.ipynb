{
 "cells": [
  {
   "cell_type": "code",
   "execution_count": 1,
   "metadata": {},
   "outputs": [],
   "source": [
    "# Dependencies\n",
    "import pandas as pd\n",
    "import numpy as np\n",
    "import matplotlib.pyplot as plt\n",
    "import gmaps"
   ]
  },
  {
   "cell_type": "code",
   "execution_count": 2,
   "metadata": {},
   "outputs": [],
   "source": [
    "# Create dataframes from CSV files\n",
    "indeed_data_df = pd.read_csv('Resources/indeed_data.csv')\n",
    "dice_data_df = pd.read_csv('Resources/dice_data.csv')\n",
    "jobs_data_df = pd.read_csv('Resources/jobs_data.csv')\n",
    "city_locations_df = pd.read_csv('Resources/city_locations.csv')"
   ]
  },
  {
   "cell_type": "markdown",
   "metadata": {},
   "source": [
    "#### Indeed"
   ]
  },
  {
   "cell_type": "code",
   "execution_count": null,
   "metadata": {},
   "outputs": [],
   "source": [
    "# Clean up dataframe\n",
    "# indeed_data_df.describe()\n",
    "indeed_data_df = indeed_data_df[['position','company','description','location']]\n",
    "indeed_data_df[['location','State']] = indeed_data_df['location'].str.split(',',expand=True)\n",
    "indeed_data_df[['State','Zip Code']] = indeed_data_df['State'].str.split(expand=True)\n",
    "indeed_data_df.head()"
   ]
  },
  {
   "cell_type": "markdown",
   "metadata": {},
   "source": [
    "#### Dice"
   ]
  },
  {
   "cell_type": "code",
   "execution_count": 3,
   "metadata": {},
   "outputs": [],
   "source": [
    "# Clean up dataframe\n",
    "# dice_data_df.describe()\n",
    "dice_data_df = dice_data_df[['jobtitle','jobdescription','employmenttype_jobstatus',\n",
    "                             'company','joblocation_address','shift','skills']]"
   ]
  },
  {
   "cell_type": "code",
   "execution_count": 4,
   "metadata": {},
   "outputs": [
    {
     "data": {
      "text/html": [
       "<div>\n",
       "<style scoped>\n",
       "    .dataframe tbody tr th:only-of-type {\n",
       "        vertical-align: middle;\n",
       "    }\n",
       "\n",
       "    .dataframe tbody tr th {\n",
       "        vertical-align: top;\n",
       "    }\n",
       "\n",
       "    .dataframe thead th {\n",
       "        text-align: right;\n",
       "    }\n",
       "</style>\n",
       "<table border=\"1\" class=\"dataframe\">\n",
       "  <thead>\n",
       "    <tr style=\"text-align: right;\">\n",
       "      <th></th>\n",
       "      <th>Job Title</th>\n",
       "      <th>Job Description</th>\n",
       "      <th>Employment Type</th>\n",
       "      <th>Company</th>\n",
       "      <th>City</th>\n",
       "      <th>State</th>\n",
       "      <th>Shift</th>\n",
       "      <th>Skills</th>\n",
       "    </tr>\n",
       "  </thead>\n",
       "  <tbody>\n",
       "    <tr>\n",
       "      <th>0</th>\n",
       "      <td>AUTOMATION TEST ENGINEER</td>\n",
       "      <td>Looking for Selenium engineers...must have sol...</td>\n",
       "      <td>C2H Corp-To-Corp, C2H Independent, C2H W2, 3 M...</td>\n",
       "      <td>Digital Intelligence Systems, LLC</td>\n",
       "      <td>Atlanta</td>\n",
       "      <td>GA</td>\n",
       "      <td>Telecommuting not available|Travel not required</td>\n",
       "      <td>SEE BELOW</td>\n",
       "    </tr>\n",
       "    <tr>\n",
       "      <th>1</th>\n",
       "      <td>Information Security Engineer</td>\n",
       "      <td>The University of Chicago has a rapidly growin...</td>\n",
       "      <td>Full Time</td>\n",
       "      <td>University of Chicago/IT Services</td>\n",
       "      <td>Chicago</td>\n",
       "      <td>IL</td>\n",
       "      <td>Telecommuting not available|Travel not required</td>\n",
       "      <td>linux/unix, network monitoring, incident respo...</td>\n",
       "    </tr>\n",
       "    <tr>\n",
       "      <th>2</th>\n",
       "      <td>Business Solutions Architect</td>\n",
       "      <td>GalaxE.SolutionsEvery day, our solutions affec...</td>\n",
       "      <td>Full Time</td>\n",
       "      <td>Galaxy Systems, Inc.</td>\n",
       "      <td>Schaumburg</td>\n",
       "      <td>IL</td>\n",
       "      <td>Telecommuting not available|Travel not required</td>\n",
       "      <td>Enterprise Solutions Architecture, business in...</td>\n",
       "    </tr>\n",
       "    <tr>\n",
       "      <th>3</th>\n",
       "      <td>Java Developer (mid level)- FT- GREAT culture,...</td>\n",
       "      <td>Java DeveloperFull-time/direct-hireBolingbrook...</td>\n",
       "      <td>Full Time</td>\n",
       "      <td>TransTech LLC</td>\n",
       "      <td>Bolingbrook</td>\n",
       "      <td>IL</td>\n",
       "      <td>Telecommuting not available|Travel not required</td>\n",
       "      <td>Please see job description</td>\n",
       "    </tr>\n",
       "    <tr>\n",
       "      <th>4</th>\n",
       "      <td>DevOps Engineer</td>\n",
       "      <td>Midtown based high tech firm has an immediate ...</td>\n",
       "      <td>Full Time</td>\n",
       "      <td>Matrix Resources</td>\n",
       "      <td>Atlanta</td>\n",
       "      <td>GA</td>\n",
       "      <td>Telecommuting not available|Travel not required</td>\n",
       "      <td>Configuration Management, Developer, Linux, Ma...</td>\n",
       "    </tr>\n",
       "  </tbody>\n",
       "</table>\n",
       "</div>"
      ],
      "text/plain": [
       "                                           Job Title  \\\n",
       "0                           AUTOMATION TEST ENGINEER   \n",
       "1                      Information Security Engineer   \n",
       "2                       Business Solutions Architect   \n",
       "3  Java Developer (mid level)- FT- GREAT culture,...   \n",
       "4                                    DevOps Engineer   \n",
       "\n",
       "                                     Job Description  \\\n",
       "0  Looking for Selenium engineers...must have sol...   \n",
       "1  The University of Chicago has a rapidly growin...   \n",
       "2  GalaxE.SolutionsEvery day, our solutions affec...   \n",
       "3  Java DeveloperFull-time/direct-hireBolingbrook...   \n",
       "4  Midtown based high tech firm has an immediate ...   \n",
       "\n",
       "                                     Employment Type  \\\n",
       "0  C2H Corp-To-Corp, C2H Independent, C2H W2, 3 M...   \n",
       "1                                          Full Time   \n",
       "2                                          Full Time   \n",
       "3                                          Full Time   \n",
       "4                                          Full Time   \n",
       "\n",
       "                             Company         City State  \\\n",
       "0  Digital Intelligence Systems, LLC      Atlanta    GA   \n",
       "1  University of Chicago/IT Services      Chicago    IL   \n",
       "2               Galaxy Systems, Inc.   Schaumburg    IL   \n",
       "3                      TransTech LLC  Bolingbrook    IL   \n",
       "4                   Matrix Resources      Atlanta    GA   \n",
       "\n",
       "                                             Shift  \\\n",
       "0  Telecommuting not available|Travel not required   \n",
       "1  Telecommuting not available|Travel not required   \n",
       "2  Telecommuting not available|Travel not required   \n",
       "3  Telecommuting not available|Travel not required   \n",
       "4  Telecommuting not available|Travel not required   \n",
       "\n",
       "                                              Skills  \n",
       "0                                          SEE BELOW  \n",
       "1  linux/unix, network monitoring, incident respo...  \n",
       "2  Enterprise Solutions Architecture, business in...  \n",
       "3                         Please see job description  \n",
       "4  Configuration Management, Developer, Linux, Ma...  "
      ]
     },
     "execution_count": 4,
     "metadata": {},
     "output_type": "execute_result"
    }
   ],
   "source": [
    "dice_data_df[['joblocation_address','State','Zip Code']] = dice_data_df['joblocation_address'].str.split(',',expand=True)\n",
    "\n",
    "dice_data_df = dice_data_df[['jobtitle','jobdescription','employmenttype_jobstatus',\n",
    "                             'company','joblocation_address','State','shift','skills']]\n",
    "\n",
    "dice_data_df = dice_data_df.rename(columns = {\n",
    "    'jobtitle': 'Job Title',\n",
    "    'jobdescription': 'Job Description',\n",
    "    'employmenttype_jobstatus': 'Employment Type',\n",
    "    'company': 'Company',\n",
    "    'joblocation_address': 'City',\n",
    "    'State': 'State',\n",
    "    'shift': 'Shift',\n",
    "    'skills': 'Skills'\n",
    "})\n",
    "\n",
    "dice_data_df.head()"
   ]
  },
  {
   "cell_type": "code",
   "execution_count": 20,
   "metadata": {},
   "outputs": [
    {
     "data": {
      "image/png": "[encoded data removed]",
      "text/plain": [
       "<Figure size 432x288 with 1 Axes>"
      ]
     },
     "metadata": {
      "needs_background": "light"
     },
     "output_type": "display_data"
    }
   ],
   "source": [
    "city_jobs_df = pd.DataFrame(dice_data_df['City'].value_counts().reset_index())\n",
    "city_jobs_df.columns = ['City', 'Job Count']\n",
    "most_city_jobs_df = city_jobs_df.nlargest(15,['Job Count'])\n",
    "most_city_jobs_df.sort_values('Job Count',ascending=True,inplace=True)\n",
    "\n",
    "most_city_jobs_plot = most_city_jobs_df.plot.barh(x='City',y='Job Count')\n",
    "most_city_jobs_plot.set_xlabel(\"Job Count\")\n",
    "most_city_jobs_plot.set_ylabel(\"City\")\n",
    "most_city_jobs_plot.set_title(\"Jobs By City\")\n",
    "plt.show()"
   ]
  },
  {
   "cell_type": "code",
   "execution_count": 8,
   "metadata": {},
   "outputs": [
    {
     "data": {
      "image/png": "[encoded data removed]",
      "text/plain": [
       "<Figure size 432x288 with 1 Axes>"
      ]
     },
     "metadata": {
      "needs_background": "light"
     },
     "output_type": "display_data"
    }
   ],
   "source": [
    "dice_data_df['State'] = dice_data_df['State'].str.strip()\n",
    "\n",
    "dice_data_df['State'] = dice_data_df['State'].replace(\n",
    "    {'Springs':'CO','Washington':'WA','Texas': 'TX','Pa':'PA','Oh':'OH', 'Va':'VA', 'Md':'MD', 'Dc':'DC'})\n",
    "\n",
    "dice_data_df['City'] = dice_data_df['City'].replace(\n",
    "    {'Colorado':'Springs'})\n",
    "\n",
    "dice_data_df = dice_data_df.loc[dice_data_df[\"State\"].notnull(), :]\n",
    "\n",
    "state_jobs_df = pd.DataFrame(dice_data_df['State'].value_counts().reset_index())\n",
    "state_jobs_df.columns = ['State', 'Job Count']\n",
    "most_state_jobs_df = state_jobs_df.nlargest(15,['Job Count'])\n",
    "most_state_jobs_df.sort_values('Job Count',ascending=True,inplace=True)\n",
    "\n",
    "most_state_jobs_plot = most_state_jobs_df.plot.barh(x='State',y='Job Count')\n",
    "most_state_jobs_plot.set_xlabel(\"Job Count\")\n",
    "most_state_jobs_plot.set_ylabel(\"State\")\n",
    "most_state_jobs_plot.set_title(\"Jobs By State\")\n",
    "plt.show()"
   ]
  },
  {
   "cell_type": "code",
   "execution_count": 16,
   "metadata": {},
   "outputs": [
    {
     "data": {
      "image/png": "[encoded data removed]",
      "text/plain": [
       "<Figure size 432x288 with 1 Axes>"
      ]
     },
     "metadata": {
      "needs_background": "light"
     },
     "output_type": "display_data"
    }
   ],
   "source": [
    "dice_data_df['Company'] = dice_data_df['Company'].replace({'Robert Half': 'Robert Half Technology'})\n",
    "\n",
    "company_jobs_df = pd.DataFrame(dice_data_df['Company'].value_counts().reset_index())\n",
    "company_jobs_df.columns = ['Company', 'Job Count']\n",
    "most_company_jobs_df = company_jobs_df.nlargest(15,['Job Count'])\n",
    "most_company_jobs_df.sort_values('Job Count',inplace=True)\n",
    "most_company_jobs_df\n",
    "\n",
    "most_company_jobs_plot = most_company_jobs_df.plot.barh(x='Company',y='Job Count')\n",
    "most_company_jobs_plot.set_xlabel(\"Job Count\")\n",
    "most_company_jobs_plot.set_ylabel(\"Company\")\n",
    "most_company_jobs_plot.set_title(\"Jobs By Company\")\n",
    "plt.show()"
   ]
  },
  {
   "cell_type": "code",
   "execution_count": null,
   "metadata": {},
   "outputs": [],
   "source": [
    "dice_data_scientist = dice_data_df[dice_data_df['Job Title'].str.contains('Data Scientist')]\n",
    "dice_data_scientist"
   ]
  },
  {
   "cell_type": "code",
   "execution_count": null,
   "metadata": {},
   "outputs": [],
   "source": [
    "dice_engineer_jobs = dice_data_df[dice_data_df['Job Title'].str.contains('Engineer')]\n",
    "dice_engineer_jobs['jobtitle'].value_counts()"
   ]
  },
  {
   "cell_type": "code",
   "execution_count": null,
   "metadata": {},
   "outputs": [],
   "source": [
    "dice_developer_jobs = dice_data_df[dice_data_df['Job Title'].str.contains('Developer')]\n",
    "dice_developer_jobs['jobtitle'].value_counts()"
   ]
  },
  {
   "cell_type": "code",
   "execution_count": null,
   "metadata": {},
   "outputs": [],
   "source": [
    "dice_business_jobs = dice_data_df[dice_data_df['Job Title'].str.contains('Business')]\n",
    "dice_business_jobs['jobtitle'].value_counts()"
   ]
  },
  {
   "cell_type": "markdown",
   "metadata": {},
   "source": [
    "#### Jobs Data"
   ]
  },
  {
   "cell_type": "code",
   "execution_count": null,
   "metadata": {},
   "outputs": [],
   "source": [
    "# Clean up dataframe\n",
    "jobs_data_df.head()\n",
    "jobs_data_df = jobs_data_df[['job_title','company_name','city']]\n",
    "jobs_data_df['city'] = jobs_data_df['city'].str.replace('+',' ')\n",
    "jobs_data_df"
   ]
  }
 ],
 "metadata": {
  "kernelspec": {
   "display_name": "Python 3",
   "language": "python",
   "name": "python3"
  },
  "language_info": {
   "codemirror_mode": {
    "name": "ipython",
    "version": 3
   },
   "file_extension": ".py",
   "mimetype": "text/x-python",
   "name": "python",
   "nbconvert_exporter": "python",
   "pygments_lexer": "ipython3",
   "version": "3.7.3"
  }
 },
 "nbformat": 4,
 "nbformat_minor": 2
}
