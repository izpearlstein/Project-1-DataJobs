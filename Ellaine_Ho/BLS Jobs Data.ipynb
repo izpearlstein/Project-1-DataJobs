{
 "cells": [
  {
   "cell_type": "code",
   "execution_count": null,
   "metadata": {},
   "outputs": [],
   "source": [
    "import matplotlib.pyplot as plt\n",
    "import pandas as pd\n",
    "import numpy as np\n",
    "import requests\n",
    "import time"
   ]
  },
  {
   "cell_type": "code",
   "execution_count": null,
   "metadata": {},
   "outputs": [],
   "source": [
    "file_to_load = \"../Resources/Copy of MSA_M2018_dl.csv\""
   ]
  },
  {
   "cell_type": "code",
   "execution_count": null,
   "metadata": {},
   "outputs": [],
   "source": [
    "df = pd.read_csv(file_to_load)\n",
    "df.head()"
   ]
  },
  {
   "cell_type": "code",
   "execution_count": null,
   "metadata": {},
   "outputs": [],
   "source": [
    "df.dtypes"
   ]
  },
  {
   "cell_type": "code",
   "execution_count": null,
   "metadata": {},
   "outputs": [],
   "source": [
    "df[\"OCC_TITLE\"].value_counts()"
   ]
  },
  {
   "cell_type": "code",
   "execution_count": null,
   "metadata": {},
   "outputs": [],
   "source": [
    "#Create a dataframe that contains the keywords we are looking to search aka analyst and analytics jobs\n",
    "search_values = [\"Database\", \"Analyst\", \"Analysis\", \"Analytic\", \"Statistic\", \"Machine Learning\"]\n",
    "occ_revised_df = df[df.OCC_TITLE.str.contains('|'.join(search_values ))]\n",
    "occ_revised_df.head()"
   ]
  },
  {
   "cell_type": "code",
   "execution_count": null,
   "metadata": {
    "scrolled": true
   },
   "outputs": [],
   "source": [
    "occ_revised_df[\"OCC_TITLE\"].value_counts()"
   ]
  },
  {
   "cell_type": "code",
   "execution_count": null,
   "metadata": {
    "scrolled": true
   },
   "outputs": [],
   "source": [
    "employment_df = occ_revised_df[[\"PRIM_STATE\", \"AREA\", \"AREA_NAME\", \"OCC_TITLE\", \n",
    "                                \"TOT_EMP\", \"JOBS_1000\", \"A_MEAN\", \"A_PCT10\", \"A_PCT25\",\n",
    "                                \"A_MEDIAN\", \"A_PCT75\", \"A_PCT90\"]]\n",
    "employment_df = employment_df[employment_df.TOT_EMP != '**']\n",
    "employment_df = employment_df[employment_df.JOBS_1000 != '**']\n",
    "employment_df = employment_df[employment_df.A_MEAN != '*']\n",
    "employment_df = employment_df[employment_df.A_PCT10 != '*']\n",
    "employment_df = employment_df[employment_df.A_PCT25 != '*']\n",
    "employment_df = employment_df[employment_df.A_MEDIAN != '*']\n",
    "employment_df = employment_df[employment_df.A_PCT75 != '*']\n",
    "employment_df = employment_df[employment_df.A_PCT90 != '*']\n",
    "employment_df.head()"
   ]
  },
  {
   "cell_type": "code",
   "execution_count": null,
   "metadata": {},
   "outputs": [],
   "source": [
    "employment_df['TOT_EMP'] = employment_df['TOT_EMP'].str.replace(',', '').astype(float)\n",
    "employment_df['JOBS_1000'] = employment_df['JOBS_1000'].str.replace(',', '').astype(float)\n",
    "employment_df['A_MEAN'] = employment_df['A_MEAN'].str.replace(',', '').astype(float)\n",
    "employment_df['A_PCT10'] = employment_df['A_PCT10'].str.replace(',', '').astype(float)\n",
    "employment_df['A_PCT25'] = employment_df['A_PCT25'].str.replace(',', '').astype(float)\n",
    "employment_df['A_MEDIAN'] = employment_df['A_MEDIAN'].str.replace(',', '').astype(float)\n",
    "employment_df['A_PCT75'] = employment_df['A_PCT75'].str.replace(',', '')\n",
    "employment_df['A_PCT90'] = employment_df['A_PCT90'].str.replace(',', '')\n",
    "employment_df.head()"
   ]
  },
  {
   "cell_type": "code",
   "execution_count": null,
   "metadata": {},
   "outputs": [],
   "source": [
    "employmentgrouped_df = employment_df.groupby(\"AREA_NAME\")"
   ]
  },
  {
   "cell_type": "code",
   "execution_count": null,
   "metadata": {},
   "outputs": [],
   "source": [
    "groupedsum = employmentgrouped_df[\"TOT_EMP\"].sum()\n",
    "jobs1000sum = employmentgrouped_df[\"JOBS_1000\"].sum()\n",
    "areamean = employmentgrouped_df[\"A_MEAN\"].mean()"
   ]
  },
  {
   "cell_type": "code",
   "execution_count": null,
   "metadata": {},
   "outputs": [],
   "source": [
    "#Dataframe of total employment, available jobs, and annual salary averages by city.\n",
    "employmentsummary_df = pd.DataFrame({\"Total Employment\": totempsum,\n",
    "                                    \"Available Jobs (Per 1000)\" : jobs1000sum,\n",
    "                                    \"Annual Salary Average\" : areamean})\n",
    "employmentsummary_df.head()"
   ]
  },
  {
   "cell_type": "code",
   "execution_count": null,
   "metadata": {
    "scrolled": true
   },
   "outputs": [],
   "source": [
    "employmentsummary_df.sort_values(by='Annual Salary Average', ascending=False).head()"
   ]
  },
  {
   "cell_type": "code",
   "execution_count": null,
   "metadata": {},
   "outputs": [],
   "source": [
    "stategrouped_df = employment_df.groupby(\"PRIM_STATE\")"
   ]
  },
  {
   "cell_type": "code",
   "execution_count": null,
   "metadata": {},
   "outputs": [],
   "source": [
    "stateempsum = stategrouped_df[\"TOT_EMP\"].sum()\n",
    "statejobs1000sum = stategrouped_df[\"JOBS_1000\"].sum()\n",
    "statesalarymean = stategrouped_df[\"A_MEAN\"].mean()"
   ]
  },
  {
   "cell_type": "code",
   "execution_count": null,
   "metadata": {},
   "outputs": [],
   "source": [
    "#Dataframe of total employment, available jobs, and annual salary averages by state.\n",
    "statesummary_df = pd.DataFrame({\"Total Employment\": stateempsum,\n",
    "                                    \"Available Jobs (Per 1000)\" : statejobs1000sum,\n",
    "                                    \"Annual Salary Average\" : statesalarymean})\n",
    "statesummary_df.head()"
   ]
  },
  {
   "cell_type": "code",
   "execution_count": null,
   "metadata": {},
   "outputs": [],
   "source": [
    "statesummary_df.sort_values(by='Annual Salary Average', ascending=False).head(15)"
   ]
  },
  {
   "cell_type": "code",
   "execution_count": null,
   "metadata": {},
   "outputs": [],
   "source": []
  }
 ],
 "metadata": {
  "kernelspec": {
   "display_name": "Python 3",
   "language": "python",
   "name": "python3"
  },
  "language_info": {
   "codemirror_mode": {
    "name": "ipython",
    "version": 3
   },
   "file_extension": ".py",
   "mimetype": "text/x-python",
   "name": "python",
   "nbconvert_exporter": "python",
   "pygments_lexer": "ipython3",
   "version": "3.7.3"
  }
 },
 "nbformat": 4,
 "nbformat_minor": 2
}
