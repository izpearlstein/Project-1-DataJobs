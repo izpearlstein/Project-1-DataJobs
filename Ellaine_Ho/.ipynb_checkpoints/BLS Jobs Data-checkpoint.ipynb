{
 "cells": [
  {
   "cell_type": "code",
   "execution_count": 1,
   "metadata": {},
   "outputs": [],
   "source": [
    "import matplotlib.pyplot as plt\n",
    "import pandas as pd\n",
    "import numpy as np\n",
    "import plotly.graph_objects as go"
   ]
  },
  {
   "cell_type": "code",
   "execution_count": 2,
   "metadata": {},
   "outputs": [],
   "source": [
    "#load BLS Data File\n",
    "file_to_load = \"../Resources/Copy of MSA_M2018_dl.csv\""
   ]
  },
  {
   "cell_type": "code",
   "execution_count": 3,
   "metadata": {},
   "outputs": [
    {
     "data": {
      "text/html": [
       "<div>\n",
       "<style scoped>\n",
       "    .dataframe tbody tr th:only-of-type {\n",
       "        vertical-align: middle;\n",
       "    }\n",
       "\n",
       "    .dataframe tbody tr th {\n",
       "        vertical-align: top;\n",
       "    }\n",
       "\n",
       "    .dataframe thead th {\n",
       "        text-align: right;\n",
       "    }\n",
       "</style>\n",
       "<table border=\"1\" class=\"dataframe\">\n",
       "  <thead>\n",
       "    <tr style=\"text-align: right;\">\n",
       "      <th></th>\n",
       "      <th>PRIM_STATE</th>\n",
       "      <th>AREA</th>\n",
       "      <th>AREA_NAME</th>\n",
       "      <th>OCC_CODE</th>\n",
       "      <th>OCC_TITLE</th>\n",
       "      <th>OCC_GROUP</th>\n",
       "      <th>TOT_EMP</th>\n",
       "      <th>EMP_PRSE</th>\n",
       "      <th>JOBS_1000</th>\n",
       "      <th>LOC QUOTIENT</th>\n",
       "      <th>...</th>\n",
       "      <th>H_MEDIAN</th>\n",
       "      <th>H_PCT75</th>\n",
       "      <th>H_PCT90</th>\n",
       "      <th>A_PCT10</th>\n",
       "      <th>A_PCT25</th>\n",
       "      <th>A_MEDIAN</th>\n",
       "      <th>A_PCT75</th>\n",
       "      <th>A_PCT90</th>\n",
       "      <th>ANNUAL</th>\n",
       "      <th>HOURLY</th>\n",
       "    </tr>\n",
       "  </thead>\n",
       "  <tbody>\n",
       "    <tr>\n",
       "      <th>0</th>\n",
       "      <td>AK</td>\n",
       "      <td>11260</td>\n",
       "      <td>Anchorage, AK</td>\n",
       "      <td>00-0000</td>\n",
       "      <td>All Occupations</td>\n",
       "      <td>total</td>\n",
       "      <td>171,770</td>\n",
       "      <td>1.1</td>\n",
       "      <td>1000.000</td>\n",
       "      <td>1.00</td>\n",
       "      <td>...</td>\n",
       "      <td>22.68</td>\n",
       "      <td>35.82</td>\n",
       "      <td>51.21</td>\n",
       "      <td>23,740</td>\n",
       "      <td>31,070</td>\n",
       "      <td>47,170</td>\n",
       "      <td>74,510</td>\n",
       "      <td>106,510</td>\n",
       "      <td>NaN</td>\n",
       "      <td>NaN</td>\n",
       "    </tr>\n",
       "    <tr>\n",
       "      <th>1</th>\n",
       "      <td>AK</td>\n",
       "      <td>11260</td>\n",
       "      <td>Anchorage, AK</td>\n",
       "      <td>11-0000</td>\n",
       "      <td>Management Occupations</td>\n",
       "      <td>major</td>\n",
       "      <td>10,610</td>\n",
       "      <td>2.5</td>\n",
       "      <td>61.779</td>\n",
       "      <td>1.17</td>\n",
       "      <td>...</td>\n",
       "      <td>48.94</td>\n",
       "      <td>64.70</td>\n",
       "      <td>93.24</td>\n",
       "      <td>55,490</td>\n",
       "      <td>74,950</td>\n",
       "      <td>101,800</td>\n",
       "      <td>134,580</td>\n",
       "      <td>193,930</td>\n",
       "      <td>NaN</td>\n",
       "      <td>NaN</td>\n",
       "    </tr>\n",
       "    <tr>\n",
       "      <th>2</th>\n",
       "      <td>AK</td>\n",
       "      <td>11260</td>\n",
       "      <td>Anchorage, AK</td>\n",
       "      <td>11-1011</td>\n",
       "      <td>Chief Executives</td>\n",
       "      <td>detailed</td>\n",
       "      <td>400</td>\n",
       "      <td>8.7</td>\n",
       "      <td>2.307</td>\n",
       "      <td>1.71</td>\n",
       "      <td>...</td>\n",
       "      <td>78.04</td>\n",
       "      <td>#</td>\n",
       "      <td>#</td>\n",
       "      <td>85,730</td>\n",
       "      <td>119,660</td>\n",
       "      <td>162,320</td>\n",
       "      <td>#</td>\n",
       "      <td>#</td>\n",
       "      <td>NaN</td>\n",
       "      <td>NaN</td>\n",
       "    </tr>\n",
       "    <tr>\n",
       "      <th>3</th>\n",
       "      <td>AK</td>\n",
       "      <td>11260</td>\n",
       "      <td>Anchorage, AK</td>\n",
       "      <td>11-1021</td>\n",
       "      <td>General and Operations Managers</td>\n",
       "      <td>detailed</td>\n",
       "      <td>3,630</td>\n",
       "      <td>4.2</td>\n",
       "      <td>21.157</td>\n",
       "      <td>1.34</td>\n",
       "      <td>...</td>\n",
       "      <td>50.10</td>\n",
       "      <td>71.35</td>\n",
       "      <td>#</td>\n",
       "      <td>55,190</td>\n",
       "      <td>74,860</td>\n",
       "      <td>104,210</td>\n",
       "      <td>148,400</td>\n",
       "      <td>#</td>\n",
       "      <td>NaN</td>\n",
       "      <td>NaN</td>\n",
       "    </tr>\n",
       "    <tr>\n",
       "      <th>4</th>\n",
       "      <td>AK</td>\n",
       "      <td>11260</td>\n",
       "      <td>Anchorage, AK</td>\n",
       "      <td>11-1031</td>\n",
       "      <td>Legislators</td>\n",
       "      <td>detailed</td>\n",
       "      <td>50</td>\n",
       "      <td>1.3</td>\n",
       "      <td>0.293</td>\n",
       "      <td>0.84</td>\n",
       "      <td>...</td>\n",
       "      <td>*</td>\n",
       "      <td>*</td>\n",
       "      <td>*</td>\n",
       "      <td>20,690</td>\n",
       "      <td>27,640</td>\n",
       "      <td>51,130</td>\n",
       "      <td>51,140</td>\n",
       "      <td>51,140</td>\n",
       "      <td>True</td>\n",
       "      <td>NaN</td>\n",
       "    </tr>\n",
       "  </tbody>\n",
       "</table>\n",
       "<p>5 rows × 25 columns</p>\n",
       "</div>"
      ],
      "text/plain": [
       "  PRIM_STATE   AREA      AREA_NAME OCC_CODE                        OCC_TITLE  \\\n",
       "0         AK  11260  Anchorage, AK  00-0000                  All Occupations   \n",
       "1         AK  11260  Anchorage, AK  11-0000           Management Occupations   \n",
       "2         AK  11260  Anchorage, AK  11-1011                 Chief Executives   \n",
       "3         AK  11260  Anchorage, AK  11-1021  General and Operations Managers   \n",
       "4         AK  11260  Anchorage, AK  11-1031                      Legislators   \n",
       "\n",
       "  OCC_GROUP  TOT_EMP EMP_PRSE JOBS_1000 LOC QUOTIENT  ... H_MEDIAN H_PCT75  \\\n",
       "0     total  171,770      1.1  1000.000         1.00  ...    22.68   35.82   \n",
       "1     major   10,610      2.5    61.779         1.17  ...    48.94   64.70   \n",
       "2  detailed      400      8.7     2.307         1.71  ...    78.04       #   \n",
       "3  detailed    3,630      4.2    21.157         1.34  ...    50.10   71.35   \n",
       "4  detailed       50      1.3     0.293         0.84  ...        *       *   \n",
       "\n",
       "  H_PCT90 A_PCT10  A_PCT25 A_MEDIAN  A_PCT75  A_PCT90 ANNUAL HOURLY  \n",
       "0   51.21  23,740   31,070   47,170   74,510  106,510    NaN    NaN  \n",
       "1   93.24  55,490   74,950  101,800  134,580  193,930    NaN    NaN  \n",
       "2       #  85,730  119,660  162,320        #        #    NaN    NaN  \n",
       "3       #  55,190   74,860  104,210  148,400        #    NaN    NaN  \n",
       "4       *  20,690   27,640   51,130   51,140   51,140   True    NaN  \n",
       "\n",
       "[5 rows x 25 columns]"
      ]
     },
     "execution_count": 3,
     "metadata": {},
     "output_type": "execute_result"
    }
   ],
   "source": [
    "bls_df = pd.read_csv(file_to_load)\n",
    "bls_df.head()"
   ]
  },
  {
   "cell_type": "code",
   "execution_count": 4,
   "metadata": {
    "scrolled": true
   },
   "outputs": [
    {
     "data": {
      "text/plain": [
       "array(['All Occupations', 'Management Occupations', 'Chief Executives',\n",
       "       'General and Operations Managers', 'Legislators',\n",
       "       'Advertising and Promotions Managers', 'Marketing Managers',\n",
       "       'Sales Managers', 'Public Relations and Fundraising Managers',\n",
       "       'Administrative Services Managers',\n",
       "       'Computer and Information Systems Managers', 'Financial Managers',\n",
       "       'Industrial Production Managers', 'Purchasing Managers',\n",
       "       'Transportation, Storage, and Distribution Managers',\n",
       "       'Compensation and Benefits Managers', 'Human Resources Managers',\n",
       "       'Training and Development Managers', 'Construction Managers',\n",
       "       'Education Administrators, Preschool and Childcare Center/Program',\n",
       "       'Education Administrators, Elementary and Secondary School',\n",
       "       'Education Administrators, Postsecondary',\n",
       "       'Education Administrators, All Other',\n",
       "       'Architectural and Engineering Managers', 'Food Service Managers',\n",
       "       'Lodging Managers', 'Medical and Health Services Managers',\n",
       "       'Natural Sciences Managers',\n",
       "       'Property, Real Estate, and Community Association Managers',\n",
       "       'Social and Community Service Managers',\n",
       "       'Emergency Management Directors', 'Managers, All Other',\n",
       "       'Business and Financial Operations Occupations',\n",
       "       'Buyers and Purchasing Agents',\n",
       "       'Claims Adjusters, Examiners, and Investigators',\n",
       "       'Compliance Officers', 'Cost Estimators',\n",
       "       'Human Resources Specialists', 'Labor Relations Specialists',\n",
       "       'Logisticians', 'Management Analysts',\n",
       "       'Meeting, Convention, and Event Planners', 'Fundraisers',\n",
       "       'Compensation, Benefits, and Job Analysis Specialists',\n",
       "       'Training and Development Specialists',\n",
       "       'Market Research Analysts and Marketing Specialists',\n",
       "       'Business Operations Specialists, All Other',\n",
       "       'Accountants and Auditors',\n",
       "       'Appraisers and Assessors of Real Estate', 'Budget Analysts',\n",
       "       'Financial Analysts', 'Personal Financial Advisors',\n",
       "       'Insurance Underwriters', 'Financial Examiners', 'Loan Officers',\n",
       "       'Tax Examiners and Collectors, and Revenue Agents',\n",
       "       'Tax Preparers', 'Financial Specialists, All Other',\n",
       "       'Computer and Mathematical Occupations',\n",
       "       'Computer Systems Analysts', 'Information Security Analysts',\n",
       "       'Computer Programmers', 'Software Developers, Applications',\n",
       "       'Software Developers, Systems Software', 'Web Developers',\n",
       "       'Database Administrators',\n",
       "       'Network and Computer Systems Administrators',\n",
       "       'Computer Network Architects', 'Computer User Support Specialists',\n",
       "       'Computer Network Support Specialists',\n",
       "       'Computer Occupations, All Other', 'Operations Research Analysts',\n",
       "       'Architecture and Engineering Occupations',\n",
       "       'Architects, Except Landscape and Naval',\n",
       "       'Cartographers and Photogrammetrists', 'Surveyors',\n",
       "       'Chemical Engineers', 'Civil Engineers',\n",
       "       'Computer Hardware Engineers', 'Electrical Engineers',\n",
       "       'Electronics Engineers, Except Computer',\n",
       "       'Environmental Engineers',\n",
       "       'Health and Safety Engineers, Except Mining Safety Engineers and Inspectors',\n",
       "       'Industrial Engineers', 'Mechanical Engineers',\n",
       "       'Petroleum Engineers', 'Engineers, All Other',\n",
       "       'Architectural and Civil Drafters',\n",
       "       'Electrical and Electronics Drafters', 'Mechanical Drafters',\n",
       "       'Civil Engineering Technicians',\n",
       "       'Electrical and Electronics Engineering Technicians',\n",
       "       'Environmental Engineering Technicians',\n",
       "       'Engineering Technicians, Except Drafters, All Other',\n",
       "       'Surveying and Mapping Technicians',\n",
       "       'Life, Physical, and Social Science Occupations',\n",
       "       'Zoologists and Wildlife Biologists',\n",
       "       'Biological Scientists, All Other', 'Conservation Scientists',\n",
       "       'Atmospheric and Space Scientists', 'Chemists',\n",
       "       'Environmental Scientists and Specialists, Including Health',\n",
       "       'Geoscientists, Except Hydrologists and Geographers',\n",
       "       'Physical Scientists, All Other', 'Economists',\n",
       "       'Clinical, Counseling, and School Psychologists',\n",
       "       'Urban and Regional Planners', 'Anthropologists and Archeologists',\n",
       "       'Social Scientists and Related Workers, All Other',\n",
       "       'Biological Technicians', 'Geological and Petroleum Technicians',\n",
       "       'Environmental Science and Protection Technicians, Including Health',\n",
       "       'Forest and Conservation Technicians',\n",
       "       'Life, Physical, and Social Science Technicians, All Other',\n",
       "       'Community and Social Service Occupations',\n",
       "       'Educational, Guidance, School, and Vocational Counselors',\n",
       "       'Rehabilitation Counselors',\n",
       "       'Substance Abuse, Behavioral Disorder, and Mental Health Counselors',\n",
       "       'Counselors, All Other',\n",
       "       'Child, Family, and School Social Workers',\n",
       "       'Healthcare Social Workers',\n",
       "       'Mental Health and Substance Abuse Social Workers',\n",
       "       'Social Workers, All Other', 'Health Educators',\n",
       "       'Social and Human Service Assistants', 'Community Health Workers',\n",
       "       'Community and Social Service Specialists, All Other', 'Clergy',\n",
       "       'Religious Workers, All Other', 'Legal Occupations', 'Lawyers',\n",
       "       'Paralegals and Legal Assistants',\n",
       "       'Title Examiners, Abstractors, and Searchers',\n",
       "       'Legal Support Workers, All Other',\n",
       "       'Education, Training, and Library Occupations',\n",
       "       'Business Teachers, Postsecondary',\n",
       "       'Biological Science Teachers, Postsecondary',\n",
       "       'Nursing Instructors and Teachers, Postsecondary',\n",
       "       'Vocational Education Teachers, Postsecondary',\n",
       "       'Postsecondary Teachers, All Other',\n",
       "       'Preschool Teachers, Except Special Education',\n",
       "       'Elementary School Teachers, Except Special Education',\n",
       "       'Secondary School Teachers, Except Special and Career/Technical Education',\n",
       "       'Adult Basic and Secondary Education and Literacy Teachers and Instructors',\n",
       "       'Self-Enrichment Education Teachers',\n",
       "       'Teachers and Instructors, All Other, Except Substitute Teachers',\n",
       "       'Substitute Teachers', 'Librarians', 'Library Technicians',\n",
       "       'Instructional Coordinators', 'Teacher Assistants',\n",
       "       'Education, Training, and Library Workers, All Other',\n",
       "       'Arts, Design, Entertainment, Sports, and Media Occupations',\n",
       "       'Art Directors', 'Floral Designers', 'Graphic Designers',\n",
       "       'Merchandise Displayers and Window Trimmers',\n",
       "       'Producers and Directors', 'Coaches and Scouts',\n",
       "       'Umpires, Referees, and Other Sports Officials',\n",
       "       'Reporters and Correspondents', 'Public Relations Specialists',\n",
       "       'Technical Writers', 'Writers and Authors',\n",
       "       'Interpreters and Translators',\n",
       "       'Media and Communication Workers, All Other',\n",
       "       'Audio and Video Equipment Technicians', 'Photographers',\n",
       "       'Film and Video Editors',\n",
       "       'Healthcare Practitioners and Technical Occupations',\n",
       "       'Chiropractors', 'Dentists, General',\n",
       "       'Dietitians and Nutritionists', 'Pharmacists',\n",
       "       'Family and General Practitioners', 'Internists, General',\n",
       "       'Obstetricians and Gynecologists', 'Pediatricians, General',\n",
       "       'Psychiatrists', 'Physicians and Surgeons, All Other',\n",
       "       'Physician Assistants', 'Occupational Therapists',\n",
       "       'Physical Therapists', 'Respiratory Therapists',\n",
       "       'Speech-Language Pathologists', 'Therapists, All Other',\n",
       "       'Veterinarians', 'Registered Nurses', 'Nurse Midwives',\n",
       "       'Nurse Practitioners', 'Audiologists',\n",
       "       'Health Diagnosing and Treating Practitioners, All Other',\n",
       "       'Clinical Laboratory Technologists and Technicians',\n",
       "       'Dental Hygienists',\n",
       "       'Cardiovascular Technologists and Technicians',\n",
       "       'Diagnostic Medical Sonographers', 'Radiologic Technologists',\n",
       "       'Magnetic Resonance Imaging Technologists',\n",
       "       'Emergency Medical Technicians and Paramedics',\n",
       "       'Dietetic Technicians', 'Pharmacy Technicians',\n",
       "       'Psychiatric Technicians', 'Surgical Technologists',\n",
       "       'Veterinary Technologists and Technicians',\n",
       "       'Ophthalmic Medical Technicians',\n",
       "       'Licensed Practical and Licensed Vocational Nurses',\n",
       "       'Medical Records and Health Information Technicians',\n",
       "       'Opticians, Dispensing', 'Orthotists and Prosthetists',\n",
       "       'Health Technologists and Technicians, All Other',\n",
       "       'Occupational Health and Safety Specialists',\n",
       "       'Occupational Health and Safety Technicians',\n",
       "       'Healthcare Practitioners and Technical Workers, All Other',\n",
       "       'Healthcare Support Occupations', 'Home Health Aides',\n",
       "       'Nursing Assistants', 'Physical Therapist Assistants',\n",
       "       'Massage Therapists', 'Dental Assistants', 'Medical Assistants',\n",
       "       'Medical Equipment Preparers', 'Medical Transcriptionists',\n",
       "       'Veterinary Assistants and Laboratory Animal Caretakers',\n",
       "       'Phlebotomists', 'Healthcare Support Workers, All Other',\n",
       "       'Protective Service Occupations',\n",
       "       'First-Line Supervisors of Police and Detectives',\n",
       "       'First-Line Supervisors of Fire Fighting and Prevention Workers',\n",
       "       'First-Line Supervisors of Protective Service Workers, All Other',\n",
       "       'Firefighters', \"Police and Sheriff's Patrol Officers\",\n",
       "       'Private Detectives and Investigators', 'Security Guards',\n",
       "       'Crossing Guards',\n",
       "       'Lifeguards, Ski Patrol, and Other Recreational Protective Service Workers',\n",
       "       'Transportation Security Screeners',\n",
       "       'Protective Service Workers, All Other',\n",
       "       'Food Preparation and Serving Related Occupations',\n",
       "       'Chefs and Head Cooks',\n",
       "       'First-Line Supervisors of Food Preparation and Serving Workers',\n",
       "       'Cooks, Fast Food', 'Cooks, Institution and Cafeteria',\n",
       "       'Cooks, Restaurant', 'Cooks, Short Order', 'Cooks, All Other',\n",
       "       'Food Preparation Workers', 'Bartenders',\n",
       "       'Combined Food Preparation and Serving Workers, Including Fast Food',\n",
       "       'Counter Attendants, Cafeteria, Food Concession, and Coffee Shop',\n",
       "       'Waiters and Waitresses', 'Food Servers, Nonrestaurant',\n",
       "       'Dining Room and Cafeteria Attendants and Bartender Helpers',\n",
       "       'Dishwashers',\n",
       "       'Hosts and Hostesses, Restaurant, Lounge, and Coffee Shop',\n",
       "       'Building and Grounds Cleaning and Maintenance Occupations',\n",
       "       'First-Line Supervisors of Housekeeping and Janitorial Workers',\n",
       "       'First-Line Supervisors of Landscaping, Lawn Service, and Groundskeeping Workers',\n",
       "       'Janitors and Cleaners, Except Maids and Housekeeping Cleaners',\n",
       "       'Maids and Housekeeping Cleaners',\n",
       "       'Landscaping and Groundskeeping Workers',\n",
       "       'Tree Trimmers and Pruners',\n",
       "       'Personal Care and Service Occupations',\n",
       "       'First-Line Supervisors of Personal Service Workers',\n",
       "       'Nonfarm Animal Caretakers',\n",
       "       'Gaming and Sports Book Writers and Runners',\n",
       "       'Ushers, Lobby Attendants, and Ticket Takers',\n",
       "       'Amusement and Recreation Attendants',\n",
       "       'Hairdressers, Hairstylists, and Cosmetologists',\n",
       "       'Manicurists and Pedicurists', 'Skincare Specialists',\n",
       "       'Baggage Porters and Bellhops', 'Concierges',\n",
       "       'Tour and Travel Guides', 'Childcare Workers',\n",
       "       'Personal Care Aides', 'Fitness Trainers and Aerobics Instructors',\n",
       "       'Recreation Workers', 'Residential Advisors',\n",
       "       'Sales and Related Occupations',\n",
       "       'First-Line Supervisors of Retail Sales Workers',\n",
       "       'First-Line Supervisors of Non-Retail Sales Workers', 'Cashiers',\n",
       "       'Counter and Rental Clerks', 'Parts Salespersons',\n",
       "       'Retail Salespersons', 'Advertising Sales Agents',\n",
       "       'Insurance Sales Agents',\n",
       "       'Securities, Commodities, and Financial Services Sales Agents',\n",
       "       'Travel Agents', 'Sales Representatives, Services, All Other',\n",
       "       'Sales Representatives, Wholesale and Manufacturing, Technical and Scientific Products',\n",
       "       'Sales Representatives, Wholesale and Manufacturing, Except Technical and Scientific Products',\n",
       "       'Demonstrators and Product Promoters', 'Real Estate Brokers',\n",
       "       'Real Estate Sales Agents', 'Sales and Related Workers, All Other',\n",
       "       'Office and Administrative Support Occupations',\n",
       "       'First-Line Supervisors of Office and Administrative Support Workers',\n",
       "       'Switchboard Operators, Including Answering Service',\n",
       "       'Bill and Account Collectors', 'Billing and Posting Clerks',\n",
       "       'Bookkeeping, Accounting, and Auditing Clerks',\n",
       "       'Payroll and Timekeeping Clerks', 'Procurement Clerks', 'Tellers',\n",
       "       'Financial Clerks, All Other', 'Brokerage Clerks',\n",
       "       'Court, Municipal, and License Clerks',\n",
       "       'Customer Service Representatives',\n",
       "       'Eligibility Interviewers, Government Programs', 'File Clerks',\n",
       "       'Hotel, Motel, and Resort Desk Clerks',\n",
       "       'Interviewers, Except Eligibility and Loan',\n",
       "       'Library Assistants, Clerical', 'Loan Interviewers and Clerks',\n",
       "       'New Accounts Clerks', 'Order Clerks',\n",
       "       'Human Resources Assistants, Except Payroll and Timekeeping',\n",
       "       'Receptionists and Information Clerks',\n",
       "       'Reservation and Transportation Ticket Agents and Travel Clerks',\n",
       "       'Information and Record Clerks, All Other',\n",
       "       'Cargo and Freight Agents', 'Couriers and Messengers',\n",
       "       'Police, Fire, and Ambulance Dispatchers',\n",
       "       'Dispatchers, Except Police, Fire, and Ambulance',\n",
       "       'Meter Readers, Utilities', 'Postal Service Clerks',\n",
       "       'Postal Service Mail Carriers',\n",
       "       'Postal Service Mail Sorters, Processors, and Processing Machine Operators',\n",
       "       'Production, Planning, and Expediting Clerks',\n",
       "       'Shipping, Receiving, and Traffic Clerks',\n",
       "       'Stock Clerks and Order Fillers',\n",
       "       'Executive Secretaries and Executive Administrative Assistants',\n",
       "       'Legal Secretaries', 'Medical Secretaries',\n",
       "       'Secretaries and Administrative Assistants, Except Legal, Medical, and Executive',\n",
       "       'Data Entry Keyers', 'Word Processors and Typists',\n",
       "       'Insurance Claims and Policy Processing Clerks',\n",
       "       'Mail Clerks and Mail Machine Operators, Except Postal Service',\n",
       "       'Office Clerks, General',\n",
       "       'Office and Administrative Support Workers, All Other',\n",
       "       'Farming, Fishing, and Forestry Occupations',\n",
       "       'Farmworkers, Farm, Ranch, and Aquacultural Animals',\n",
       "       'Construction and Extraction Occupations',\n",
       "       'First-Line Supervisors of Construction Trades and Extraction Workers',\n",
       "       'Carpenters', 'Carpet Installers',\n",
       "       'Cement Masons and Concrete Finishers', 'Construction Laborers',\n",
       "       'Operating Engineers and Other Construction Equipment Operators',\n",
       "       'Electricians', 'Glaziers',\n",
       "       'Insulation Workers, Floor, Ceiling, and Wall',\n",
       "       'Painters, Construction and Maintenance',\n",
       "       'Plumbers, Pipefitters, and Steamfitters', 'Roofers',\n",
       "       'Structural Iron and Steel Workers', 'Helpers--Carpenters',\n",
       "       'Helpers--Electricians',\n",
       "       'Helpers--Pipelayers, Plumbers, Pipefitters, and Steamfitters',\n",
       "       'Helpers, Construction Trades, All Other',\n",
       "       'Construction and Building Inspectors',\n",
       "       'Hazardous Materials Removal Workers',\n",
       "       'Highway Maintenance Workers', 'Derrick Operators, Oil and Gas',\n",
       "       'Rotary Drill Operators, Oil and Gas',\n",
       "       'Service Unit Operators, Oil, Gas, and Mining',\n",
       "       'Earth Drillers, Except Oil and Gas', 'Roustabouts, Oil and Gas',\n",
       "       'Installation, Maintenance, and Repair Occupations',\n",
       "       'First-Line Supervisors of Mechanics, Installers, and Repairers',\n",
       "       'Computer, Automated Teller, and Office Machine Repairers',\n",
       "       'Telecommunications Equipment Installers and Repairers, Except Line Installers',\n",
       "       'Avionics Technicians',\n",
       "       'Electrical and Electronics Repairers, Commercial and Industrial Equipment',\n",
       "       'Electrical and Electronics Repairers, Powerhouse, Substation, and Relay',\n",
       "       'Security and Fire Alarm Systems Installers',\n",
       "       'Aircraft Mechanics and Service Technicians',\n",
       "       'Automotive Body and Related Repairers',\n",
       "       'Automotive Glass Installers and Repairers',\n",
       "       'Automotive Service Technicians and Mechanics',\n",
       "       'Bus and Truck Mechanics and Diesel Engine Specialists',\n",
       "       'Mobile Heavy Equipment Mechanics, Except Engines',\n",
       "       'Motorboat Mechanics and Service Technicians',\n",
       "       'Tire Repairers and Changers',\n",
       "       'Heating, Air Conditioning, and Refrigeration Mechanics and Installers',\n",
       "       'Home Appliance Repairers', 'Industrial Machinery Mechanics',\n",
       "       'Maintenance Workers, Machinery', 'Millwrights',\n",
       "       'Electrical Power-Line Installers and Repairers',\n",
       "       'Telecommunications Line Installers and Repairers',\n",
       "       'Precision Instrument and Equipment Repairers, All Other',\n",
       "       'Maintenance and Repair Workers, General', 'Commercial Divers',\n",
       "       'Riggers',\n",
       "       'Helpers--Installation, Maintenance, and Repair Workers',\n",
       "       'Installation, Maintenance, and Repair Workers, All Other',\n",
       "       'Production Occupations',\n",
       "       'First-Line Supervisors of Production and Operating Workers',\n",
       "       'Structural Metal Fabricators and Fitters',\n",
       "       'Assemblers and Fabricators, All Other, Including Team Assemblers',\n",
       "       'Bakers', 'Butchers and Meat Cutters',\n",
       "       'Food and Tobacco Roasting, Baking, and Drying Machine Operators and Tenders',\n",
       "       'Food Batchmakers', 'Machinists',\n",
       "       'Welders, Cutters, Solderers, and Brazers',\n",
       "       'Printing Press Operators', 'Laundry and Dry-Cleaning Workers',\n",
       "       'Cabinetmakers and Bench Carpenters',\n",
       "       'Woodworking Machine Setters, Operators, and Tenders, Except Sawing',\n",
       "       'Power Plant Operators',\n",
       "       'Water and Wastewater Treatment Plant and System Operators',\n",
       "       'Petroleum Pump System Operators, Refinery Operators, and Gaugers',\n",
       "       'Separating, Filtering, Clarifying, Precipitating, and Still Machine Setters, Operators, and Tenders',\n",
       "       'Inspectors, Testers, Sorters, Samplers, and Weighers',\n",
       "       'Medical Appliance Technicians',\n",
       "       'Packaging and Filling Machine Operators and Tenders',\n",
       "       'Helpers--Production Workers', 'Production Workers, All Other',\n",
       "       'Transportation and Material Moving Occupations',\n",
       "       'First-Line Supervisors of Transportation and Material Moving Workers, Except Aircraft Cargo Handling Supervisors',\n",
       "       'Airline Pilots, Copilots, and Flight Engineers',\n",
       "       'Commercial Pilots', 'Air Traffic Controllers',\n",
       "       'Airfield Operations Specialists',\n",
       "       'Bus Drivers, Transit and Intercity',\n",
       "       'Bus Drivers, School or Special Client', 'Driver/Sales Workers',\n",
       "       'Heavy and Tractor-Trailer Truck Drivers',\n",
       "       'Light Truck or Delivery Services Drivers',\n",
       "       'Taxi Drivers and Chauffeurs',\n",
       "       'Motor Vehicle Operators, All Other', 'Sailors and Marine Oilers',\n",
       "       'Captains, Mates, and Pilots of Water Vessels',\n",
       "       'Parking Lot Attendants',\n",
       "       'Automotive and Watercraft Service Attendants',\n",
       "       'Transportation Inspectors', 'Transportation Workers, All Other',\n",
       "       'Excavating and Loading Machine and Dragline Operators',\n",
       "       'Industrial Truck and Tractor Operators',\n",
       "       'Cleaners of Vehicles and Equipment',\n",
       "       'Laborers and Freight, Stock, and Material Movers, Hand',\n",
       "       'Packers and Packagers, Hand',\n",
       "       'Material Moving Workers, All Other',\n",
       "       'Special Education Teachers, Kindergarten and Elementary School',\n",
       "       'Locker Room, Coatroom, and Dressing Room Attendants',\n",
       "       'Sheet Metal Workers',\n",
       "       'Septic Tank Servicers and Sewer Pipe Cleaners',\n",
       "       'Stationary Engineers and Boiler Operators',\n",
       "       'Middle School Teachers, Except Special and Career/Technical Education',\n",
       "       'Special Education Teachers, Secondary School',\n",
       "       'Physical Therapist Aides', 'Correctional Officers and Jailers',\n",
       "       'Weighers, Measurers, Checkers, and Samplers, Recordkeeping',\n",
       "       'Pipelayers', 'Fence Erectors',\n",
       "       'Farm Equipment Mechanics and Service Technicians',\n",
       "       'Computer-Controlled Machine Tool Operators, Metal and Plastic',\n",
       "       'Computer Numerically Controlled Machine Tool Programmers, Metal and Plastic',\n",
       "       'Cutting, Punching, and Press Machine Setters, Operators, and Tenders, Metal and Plastic',\n",
       "       'Grinding, Lapping, Polishing, and Buffing Machine Tool Setters, Operators, and Tenders, Metal and Plastic',\n",
       "       'Metal-Refining Furnace Operators and Tenders',\n",
       "       'Molding, Coremaking, and Casting Machine Setters, Operators, and Tenders, Metal and Plastic',\n",
       "       'Tool and Die Makers',\n",
       "       'Plating and Coating Machine Setters, Operators, and Tenders, Metal and Plastic',\n",
       "       'Sewing Machine Operators',\n",
       "       'Crushing, Grinding, and Polishing Machine Setters, Operators, and Tenders',\n",
       "       'Crane and Tower Operators',\n",
       "       'Refuse and Recyclable Material Collectors',\n",
       "       'Industrial Engineering Technicians',\n",
       "       'Health Specialties Teachers, Postsecondary',\n",
       "       'Detectives and Criminal Investigators',\n",
       "       'Logging Equipment Operators',\n",
       "       'Coating, Painting, and Spraying Machine Setters, Operators, and Tenders',\n",
       "       'Funeral Service Managers', 'Postmasters and Mail Superintendents',\n",
       "       'Insurance Appraisers, Auto Damage', 'Credit Analysts',\n",
       "       'Credit Counselors',\n",
       "       'Computer and Information Research Scientists', 'Actuaries',\n",
       "       'Statisticians', 'Aerospace Engineers', 'Materials Engineers',\n",
       "       'Mining and Geological Engineers, Including Mining Safety Engineers',\n",
       "       'Drafters, All Other', 'Electro-Mechanical Technicians',\n",
       "       'Mechanical Engineering Technicians',\n",
       "       'Biochemists and Biophysicists',\n",
       "       'Medical Scientists, Except Epidemiologists',\n",
       "       'Life Scientists, All Other', 'Chemical Technicians',\n",
       "       'Forensic Science Technicians', 'Marriage and Family Therapists',\n",
       "       'Probation Officers and Correctional Treatment Specialists',\n",
       "       'Judges, Magistrate Judges, and Magistrates', 'Court Reporters',\n",
       "       'Computer Science Teachers, Postsecondary',\n",
       "       'Mathematical Science Teachers, Postsecondary',\n",
       "       'Chemistry Teachers, Postsecondary',\n",
       "       'Psychology Teachers, Postsecondary',\n",
       "       'Sociology Teachers, Postsecondary',\n",
       "       'Education Teachers, Postsecondary',\n",
       "       'Art, Drama, and Music Teachers, Postsecondary',\n",
       "       'Communications Teachers, Postsecondary',\n",
       "       'English Language and Literature Teachers, Postsecondary',\n",
       "       'Foreign Language and Literature Teachers, Postsecondary',\n",
       "       'History Teachers, Postsecondary',\n",
       "       'Philosophy and Religion Teachers, Postsecondary',\n",
       "       'Recreation and Fitness Studies Teachers, Postsecondary',\n",
       "       'Kindergarten Teachers, Except Special Education',\n",
       "       'Special Education Teachers, Middle School',\n",
       "       'Multimedia Artists and Animators', 'Interior Designers',\n",
       "       'Musicians and Singers', 'Editors', 'Broadcast Technicians',\n",
       "       'Optometrists', 'Surgeons', 'Radiation Therapists',\n",
       "       'Recreational Therapists', 'Nurse Anesthetists',\n",
       "       'Nuclear Medicine Technologists', 'Athletic Trainers',\n",
       "       'Psychiatric Aides', 'Orderlies',\n",
       "       'Occupational Therapy Assistants', 'Pharmacy Aides',\n",
       "       'First-Line Supervisors of Correctional Officers',\n",
       "       'Fire Inspectors and Investigators', 'Bailiffs',\n",
       "       'Animal Control Workers',\n",
       "       'Food Preparation and Serving Related Workers, All Other',\n",
       "       'Pest Control Workers',\n",
       "       'Pesticide Handlers, Sprayers, and Applicators, Vegetation',\n",
       "       'Grounds Maintenance Workers, All Other', 'Funeral Attendants',\n",
       "       'Morticians, Undertakers, and Funeral Directors',\n",
       "       'Personal Care and Service Workers, All Other', 'Sales Engineers',\n",
       "       'Telemarketers', 'Credit Authorizers, Checkers, and Clerks',\n",
       "       'Computer Operators', 'Desktop Publishers',\n",
       "       'Office Machine Operators, Except Computer',\n",
       "       'First-Line Supervisors of Farming, Fishing, and Forestry Workers',\n",
       "       'Farmworkers and Laborers, Crop, Nursery, and Greenhouse',\n",
       "       'Logging Workers, All Other', 'Brickmasons and Blockmasons',\n",
       "       'Floor Layers, Except Carpet, Wood, and Hard Tiles',\n",
       "       'Paving, Surfacing, and Tamping Equipment Operators',\n",
       "       'Drywall and Ceiling Tile Installers',\n",
       "       'Elevator Installers and Repairers',\n",
       "       'Miscellaneous Construction and Related Workers',\n",
       "       'Radio, Cellular, and Tower Equipment Installers and Repairers',\n",
       "       'Electric Motor, Power Tool, and Related Repairers',\n",
       "       'Electronic Equipment Installers and Repairers, Motor Vehicles',\n",
       "       'Electronic Home Entertainment Equipment Installers and Repairers',\n",
       "       'Motorcycle Mechanics',\n",
       "       'Outdoor Power Equipment and Other Small Engine Mechanics',\n",
       "       'Control and Valve Installers and Repairers, Except Mechanical Door',\n",
       "       'Refractory Materials Repairers, Except Brickmasons',\n",
       "       'Medical Equipment Repairers',\n",
       "       'Coin, Vending, and Amusement Machine Servicers and Repairers',\n",
       "       'Locksmiths and Safe Repairers',\n",
       "       'Coil Winders, Tapers, and Finishers',\n",
       "       'Electrical, Electronic, and Electromechanical Assemblers, Except Coil Winders, Tapers, and Finishers',\n",
       "       'Meat, Poultry, and Fish Cutters and Trimmers',\n",
       "       'Food Cooking Machine Operators and Tenders',\n",
       "       'Extruding and Drawing Machine Setters, Operators, and Tenders, Metal and Plastic',\n",
       "       'Forging Machine Setters, Operators, and Tenders, Metal and Plastic',\n",
       "       'Rolling Machine Setters, Operators, and Tenders, Metal and Plastic',\n",
       "       'Drilling and Boring Machine Tool Setters, Operators, and Tenders, Metal and Plastic',\n",
       "       'Lathe and Turning Machine Tool Setters, Operators, and Tenders, Metal and Plastic',\n",
       "       'Milling and Planing Machine Setters, Operators, and Tenders, Metal and Plastic',\n",
       "       'Patternmakers, Metal and Plastic', 'Foundry Mold and Coremakers',\n",
       "       'Multiple Machine Tool Setters, Operators, and Tenders, Metal and Plastic',\n",
       "       'Welding, Soldering, and Brazing Machine Setters, Operators, and Tenders',\n",
       "       'Layout Workers, Metal and Plastic',\n",
       "       'Tool Grinders, Filers, and Sharpeners',\n",
       "       'Metal Workers and Plastic Workers, All Other',\n",
       "       'Prepress Technicians and Workers',\n",
       "       'Print Binding and Finishing Workers',\n",
       "       'Pressers, Textile, Garment, and Related Materials',\n",
       "       'Sewers, Hand',\n",
       "       'Extruding and Forming Machine Setters, Operators, and Tenders, Synthetic and Glass Fibers',\n",
       "       'Upholsterers',\n",
       "       'Sawing Machine Setters, Operators, and Tenders, Wood',\n",
       "       'Power Distributors and Dispatchers', 'Gas Plant Operators',\n",
       "       'Chemical Equipment Operators and Tenders',\n",
       "       'Grinding and Polishing Workers, Hand',\n",
       "       'Mixing and Blending Machine Setters, Operators, and Tenders',\n",
       "       'Cutting and Slicing Machine Setters, Operators, and Tenders',\n",
       "       'Extruding, Forming, Pressing, and Compacting Machine Setters, Operators, and Tenders',\n",
       "       'Furnace, Kiln, Oven, Drier, and Kettle Operators and Tenders',\n",
       "       'Jewelers and Precious Stone and Metal Workers',\n",
       "       'Dental Laboratory Technicians',\n",
       "       'Painters, Transportation Equipment',\n",
       "       'Painting, Coating, and Decorating Workers',\n",
       "       'Cleaning, Washing, and Metal Pickling Equipment Operators and Tenders',\n",
       "       'Molders, Shapers, and Casters, Except Metal and Plastic',\n",
       "       'Paper Goods Machine Setters, Operators, and Tenders',\n",
       "       'Conveyor Operators and Tenders',\n",
       "       'Loading Machine Operators, Underground Mining',\n",
       "       'Machine Feeders and Offbearers',\n",
       "       'Pump Operators, Except Wellhead Pumpers',\n",
       "       'Tank Car, Truck, and Ship Loaders',\n",
       "       'Helpers--Brickmasons, Blockmasons, Stonemasons, and Tile and Marble Setters',\n",
       "       'Textile Winding, Twisting, and Drawing Out Machine Setters, Operators, and Tenders',\n",
       "       'Textile Cutting Machine Setters, Operators, and Tenders',\n",
       "       'Ambulance Drivers and Attendants, Except Emergency Medical Technicians',\n",
       "       'Aerospace Engineering and Operations Technicians', 'Physicists',\n",
       "       'Materials Scientists', 'Engineering Teachers, Postsecondary',\n",
       "       'Farm and Home Management Advisors',\n",
       "       'Radio and Television Announcers', 'Anesthesiologists',\n",
       "       'Tile and Marble Setters',\n",
       "       'Tailors, Dressmakers, and Custom Sewers',\n",
       "       'Marine Engineers and Naval Architects',\n",
       "       'Insulation Workers, Mechanical',\n",
       "       'Helpers--Painters, Paperhangers, Plasterers, and Stucco Masons',\n",
       "       'Food Processing Workers, All Other',\n",
       "       'Heat Treating Equipment Setters, Operators, and Tenders, Metal and Plastic',\n",
       "       'Chemical Plant and System Operators',\n",
       "       'Administrative Law Judges, Adjudicators, and Hearing Officers',\n",
       "       'Archivists', 'Agricultural Workers, All Other',\n",
       "       'Helpers--Roofers', 'Slaughterers and Meat Packers',\n",
       "       'Woodworkers, All Other',\n",
       "       'Railroad Brake, Signal, and Switch Operators',\n",
       "       'Log Graders and Scalers', 'Food Scientists and Technologists',\n",
       "       'Microbiologists', 'Agricultural and Food Science Technicians',\n",
       "       'Physics Teachers, Postsecondary', 'Graduate Teaching Assistants',\n",
       "       'Career/Technical Education Teachers, Secondary School',\n",
       "       'Special Education Teachers, Preschool', 'Curators',\n",
       "       'Camera Operators, Television, Video, and Motion Picture',\n",
       "       'Reinforcing Iron and Rebar Workers',\n",
       "       'Recreational Vehicle Service Technicians',\n",
       "       'Mechanical Door Repairers',\n",
       "       'Cooling and Freezing Equipment Operators and Tenders',\n",
       "       'First-Line Supervisors of Gaming Workers',\n",
       "       'Gaming Change Persons and Booth Cashiers', 'Gaming Cage Workers',\n",
       "       'Graders and Sorters, Agricultural Products',\n",
       "       'Rock Splitters, Quarry',\n",
       "       'Adhesive Bonding Machine Operators and Tenders',\n",
       "       'Respiratory Therapy Technicians',\n",
       "       'Agricultural Equipment Operators', 'Landscape Architects',\n",
       "       'Epidemiologists', 'Survey Researchers',\n",
       "       'Social Science Research Assistants', 'Judicial Law Clerks',\n",
       "       'Political Science Teachers, Postsecondary',\n",
       "       'Special Education Teachers, All Other', 'Actors', 'Podiatrists',\n",
       "       'Agricultural Inspectors', 'Fiberglass Laminators and Fabricators',\n",
       "       'Furniture Finishers', 'Ophthalmic Laboratory Technicians',\n",
       "       'Transportation Attendants, Except Flight Attendants',\n",
       "       'Plasterers and Stucco Masons',\n",
       "       'Agents and Business Managers of Artists, Performers, and Athletes',\n",
       "       'Biomedical Engineers', 'Nuclear Engineers',\n",
       "       'Soil and Plant Scientists', 'Hydrologists',\n",
       "       'Psychologists, All Other',\n",
       "       'Directors, Religious Activities and Education',\n",
       "       'Arbitrators, Mediators, and Conciliators',\n",
       "       'Social Sciences Teachers, Postsecondary, All Other',\n",
       "       'Criminal Justice and Law Enforcement Teachers, Postsecondary',\n",
       "       'Home Economics Teachers, Postsecondary',\n",
       "       'Career/Technical Education Teachers, Middle School',\n",
       "       'Museum Technicians and Conservators',\n",
       "       'Audio-Visual and Multimedia Collections Specialists',\n",
       "       'Craft Artists',\n",
       "       'Fine Artists, Including Painters, Sculptors, and Illustrators',\n",
       "       'Commercial and Industrial Designers', 'Fashion Designers',\n",
       "       'Set and Exhibit Designers', 'Designers, All Other',\n",
       "       'Athletes and Sports Competitors', 'Music Directors and Composers',\n",
       "       'Entertainers and Performers, Sports and Related Workers, All Other',\n",
       "       'Public Address System and Other Announcers',\n",
       "       'Broadcast News Analysts', 'Sound Engineering Technicians',\n",
       "       'Media and Communication Equipment Workers, All Other',\n",
       "       'Oral and Maxillofacial Surgeons', 'Orthodontists',\n",
       "       'Dentists, All Other Specialists', 'Exercise Physiologists',\n",
       "       'Hearing Aid Specialists', 'Genetic Counselors',\n",
       "       'Occupational Therapy Aides',\n",
       "       'Building Cleaning Workers, All Other', 'Animal Trainers',\n",
       "       'Gaming Dealers', 'Motion Picture Projectionists',\n",
       "       'Costume Attendants', 'Barbers', 'Models',\n",
       "       'Door-to-Door Sales Workers, News and Street Vendors, and Related Workers',\n",
       "       'Correspondence Clerks', 'Proofreaders and Copy Markers',\n",
       "       'Statistical Assistants', 'Stonemasons', 'Tapers',\n",
       "       'Rail-Track Laying and Maintenance Equipment Operators',\n",
       "       'Continuous Mining Machine Operators',\n",
       "       'Helpers--Extraction Workers',\n",
       "       'Electrical and Electronics Installers and Repairers, Transportation Equipment',\n",
       "       'Bicycle Repairers', 'Camera and Photographic Equipment Repairers',\n",
       "       'Musical Instrument Repairers and Tuners',\n",
       "       'Fabric Menders, Except Garment',\n",
       "       'Aircraft Structure, Surfaces, Rigging, and Systems Assemblers',\n",
       "       'Engine and Other Machine Assemblers',\n",
       "       'Pourers and Casters, Metal', 'Model Makers, Metal and Plastic',\n",
       "       'Textile Knitting and Weaving Machine Setters, Operators, and Tenders',\n",
       "       'Textile, Apparel, and Furnishings Workers, All Other',\n",
       "       'Plant and System Operators, All Other',\n",
       "       'Cutters and Trimmers, Hand', 'Semiconductor Processors',\n",
       "       'Photographic Process Workers and Processing Machine Operators',\n",
       "       'Etchers and Engravers', 'Aircraft Cargo Handling Supervisors',\n",
       "       'Flight Attendants', 'Traffic Technicians', 'Astronomers',\n",
       "       'Farmers, Ranchers, and Other Agricultural Managers',\n",
       "       'Solar Photovoltaic Installers', 'Extraction Workers, All Other',\n",
       "       'Wind Turbine Service Technicians', 'Wellhead Pumpers',\n",
       "       'Agricultural Sciences Teachers, Postsecondary',\n",
       "       'Gaming Service Workers, All Other',\n",
       "       'Entertainment Attendants and Related Workers, All Other',\n",
       "       'Mathematicians', 'Foresters', 'Sociologists', 'Historians',\n",
       "       'Atmospheric, Earth, Marine, and Space Sciences Teachers, Postsecondary',\n",
       "       'Environmental Science Teachers, Postsecondary',\n",
       "       'Anthropology and Archeology Teachers, Postsecondary',\n",
       "       'Area, Ethnic, and Cultural Studies Teachers, Postsecondary',\n",
       "       'Economics Teachers, Postsecondary',\n",
       "       'Geography Teachers, Postsecondary',\n",
       "       'Library Science Teachers, Postsecondary',\n",
       "       'Artists and Related Workers, All Other', 'Dancers',\n",
       "       'Choreographers',\n",
       "       'Forest Fire Inspectors and Prevention Specialists',\n",
       "       'Fish and Game Wardens', 'Parking Enforcement Workers',\n",
       "       'Gaming Surveillance Officers and Gaming Investigators',\n",
       "       'Cooks, Private Household', 'Embalmers',\n",
       "       'Makeup Artists, Theatrical and Performance', 'Shampooers',\n",
       "       'Telephone Operators', 'Boilermakers',\n",
       "       'Floor Sanders and Finishers',\n",
       "       'Explosives Workers, Ordnance Handling Experts, and Blasters',\n",
       "       'Rail Car Repairers', 'Watch Repairers',\n",
       "       'Shoe and Leather Workers and Repairers',\n",
       "       'Shoe Machine Operators and Tenders',\n",
       "       'Textile Bleaching and Dyeing Machine Operators and Tenders',\n",
       "       'Fabric and Apparel Patternmakers',\n",
       "       'Rail Transportation Workers, All Other', 'Ship Engineers',\n",
       "       'Hoist and Winch Operators', 'Animal Breeders',\n",
       "       'Rail Yard Engineers, Dinkey Operators, and Hostlers',\n",
       "       'Agricultural Engineers', 'Law Teachers, Postsecondary',\n",
       "       'Social Work Teachers, Postsecondary', 'Gaming Managers',\n",
       "       'Nuclear Technicians', 'Architecture Teachers, Postsecondary',\n",
       "       'Forest and Conservation Workers',\n",
       "       'Terrazzo Workers and Finishers', 'Pile-Driver Operators',\n",
       "       'Subway and Streetcar Operators', 'Geographers', 'Paperhangers',\n",
       "       'Miscellaneous Mathematical Science Occupations',\n",
       "       'Animal Scientists', 'Industrial-Organizational Psychologists',\n",
       "       'Political Scientists', 'Radio Operators',\n",
       "       'Transit and Railroad Police',\n",
       "       'Communications Equipment Operators, All Other',\n",
       "       'Signal and Track Switch Repairers', 'Locomotive Engineers',\n",
       "       'Railroad Conductors and Yardmasters', 'Motorboat Operators',\n",
       "       'Gas Compressor and Gas Pumping Station Operators',\n",
       "       'Prosthodontists', 'Bridge and Lock Tenders', 'Tire Builders',\n",
       "       'Nuclear Power Reactor Operators', 'Dredge Operators',\n",
       "       'Mining Machine Operators, All Other', 'Fallers',\n",
       "       'Timing Device Assemblers and Adjusters',\n",
       "       'Mine Cutting and Channeling Machine Operators',\n",
       "       'Roof Bolters, Mining', 'Mine Shuttle Car Operators'], dtype=object)"
      ]
     },
     "execution_count": 4,
     "metadata": {},
     "output_type": "execute_result"
    }
   ],
   "source": [
    "bls_df[\"OCC_TITLE\"].unique()"
   ]
  },
  {
   "cell_type": "code",
   "execution_count": 5,
   "metadata": {},
   "outputs": [
    {
     "data": {
      "text/html": [
       "<div>\n",
       "<style scoped>\n",
       "    .dataframe tbody tr th:only-of-type {\n",
       "        vertical-align: middle;\n",
       "    }\n",
       "\n",
       "    .dataframe tbody tr th {\n",
       "        vertical-align: top;\n",
       "    }\n",
       "\n",
       "    .dataframe thead th {\n",
       "        text-align: right;\n",
       "    }\n",
       "</style>\n",
       "<table border=\"1\" class=\"dataframe\">\n",
       "  <thead>\n",
       "    <tr style=\"text-align: right;\">\n",
       "      <th></th>\n",
       "      <th>PRIM_STATE</th>\n",
       "      <th>AREA</th>\n",
       "      <th>AREA_NAME</th>\n",
       "      <th>OCC_CODE</th>\n",
       "      <th>OCC_TITLE</th>\n",
       "      <th>OCC_GROUP</th>\n",
       "      <th>TOT_EMP</th>\n",
       "      <th>EMP_PRSE</th>\n",
       "      <th>JOBS_1000</th>\n",
       "      <th>LOC QUOTIENT</th>\n",
       "      <th>...</th>\n",
       "      <th>H_MEDIAN</th>\n",
       "      <th>H_PCT75</th>\n",
       "      <th>H_PCT90</th>\n",
       "      <th>A_PCT10</th>\n",
       "      <th>A_PCT25</th>\n",
       "      <th>A_MEDIAN</th>\n",
       "      <th>A_PCT75</th>\n",
       "      <th>A_PCT90</th>\n",
       "      <th>ANNUAL</th>\n",
       "      <th>HOURLY</th>\n",
       "    </tr>\n",
       "  </thead>\n",
       "  <tbody>\n",
       "    <tr>\n",
       "      <th>10</th>\n",
       "      <td>AK</td>\n",
       "      <td>11260</td>\n",
       "      <td>Anchorage, AK</td>\n",
       "      <td>11-3021</td>\n",
       "      <td>Computer and Information Systems Managers</td>\n",
       "      <td>detailed</td>\n",
       "      <td>260</td>\n",
       "      <td>5.9</td>\n",
       "      <td>1.518</td>\n",
       "      <td>0.56</td>\n",
       "      <td>...</td>\n",
       "      <td>50.21</td>\n",
       "      <td>60.50</td>\n",
       "      <td>70.74</td>\n",
       "      <td>73,160</td>\n",
       "      <td>87,260</td>\n",
       "      <td>104,440</td>\n",
       "      <td>125,830</td>\n",
       "      <td>147,140</td>\n",
       "      <td>NaN</td>\n",
       "      <td>NaN</td>\n",
       "    </tr>\n",
       "    <tr>\n",
       "      <th>23</th>\n",
       "      <td>AK</td>\n",
       "      <td>11260</td>\n",
       "      <td>Anchorage, AK</td>\n",
       "      <td>11-9041</td>\n",
       "      <td>Architectural and Engineering Managers</td>\n",
       "      <td>detailed</td>\n",
       "      <td>270</td>\n",
       "      <td>8.3</td>\n",
       "      <td>1.574</td>\n",
       "      <td>1.21</td>\n",
       "      <td>...</td>\n",
       "      <td>66.25</td>\n",
       "      <td>82.81</td>\n",
       "      <td>#</td>\n",
       "      <td>96,960</td>\n",
       "      <td>116,310</td>\n",
       "      <td>137,800</td>\n",
       "      <td>172,240</td>\n",
       "      <td>#</td>\n",
       "      <td>NaN</td>\n",
       "      <td>NaN</td>\n",
       "    </tr>\n",
       "    <tr>\n",
       "      <th>40</th>\n",
       "      <td>AK</td>\n",
       "      <td>11260</td>\n",
       "      <td>Anchorage, AK</td>\n",
       "      <td>13-1111</td>\n",
       "      <td>Management Analysts</td>\n",
       "      <td>detailed</td>\n",
       "      <td>410</td>\n",
       "      <td>10.0</td>\n",
       "      <td>2.362</td>\n",
       "      <td>0.50</td>\n",
       "      <td>...</td>\n",
       "      <td>43.36</td>\n",
       "      <td>51.02</td>\n",
       "      <td>65.19</td>\n",
       "      <td>59,900</td>\n",
       "      <td>72,920</td>\n",
       "      <td>90,190</td>\n",
       "      <td>106,120</td>\n",
       "      <td>135,590</td>\n",
       "      <td>NaN</td>\n",
       "      <td>NaN</td>\n",
       "    </tr>\n",
       "    <tr>\n",
       "      <th>43</th>\n",
       "      <td>AK</td>\n",
       "      <td>11260</td>\n",
       "      <td>Anchorage, AK</td>\n",
       "      <td>13-1141</td>\n",
       "      <td>Compensation, Benefits, and Job Analysis Speci...</td>\n",
       "      <td>detailed</td>\n",
       "      <td>70</td>\n",
       "      <td>15.1</td>\n",
       "      <td>0.381</td>\n",
       "      <td>0.66</td>\n",
       "      <td>...</td>\n",
       "      <td>31.93</td>\n",
       "      <td>38.91</td>\n",
       "      <td>56.89</td>\n",
       "      <td>47,630</td>\n",
       "      <td>55,220</td>\n",
       "      <td>66,420</td>\n",
       "      <td>80,940</td>\n",
       "      <td>118,320</td>\n",
       "      <td>NaN</td>\n",
       "      <td>NaN</td>\n",
       "    </tr>\n",
       "    <tr>\n",
       "      <th>45</th>\n",
       "      <td>AK</td>\n",
       "      <td>11260</td>\n",
       "      <td>Anchorage, AK</td>\n",
       "      <td>13-1161</td>\n",
       "      <td>Market Research Analysts and Marketing Special...</td>\n",
       "      <td>detailed</td>\n",
       "      <td>200</td>\n",
       "      <td>12.6</td>\n",
       "      <td>1.182</td>\n",
       "      <td>0.27</td>\n",
       "      <td>...</td>\n",
       "      <td>31.22</td>\n",
       "      <td>43.52</td>\n",
       "      <td>53.86</td>\n",
       "      <td>33,510</td>\n",
       "      <td>44,540</td>\n",
       "      <td>64,930</td>\n",
       "      <td>90,510</td>\n",
       "      <td>112,030</td>\n",
       "      <td>NaN</td>\n",
       "      <td>NaN</td>\n",
       "    </tr>\n",
       "  </tbody>\n",
       "</table>\n",
       "<p>5 rows × 25 columns</p>\n",
       "</div>"
      ],
      "text/plain": [
       "   PRIM_STATE   AREA      AREA_NAME OCC_CODE  \\\n",
       "10         AK  11260  Anchorage, AK  11-3021   \n",
       "23         AK  11260  Anchorage, AK  11-9041   \n",
       "40         AK  11260  Anchorage, AK  13-1111   \n",
       "43         AK  11260  Anchorage, AK  13-1141   \n",
       "45         AK  11260  Anchorage, AK  13-1161   \n",
       "\n",
       "                                            OCC_TITLE OCC_GROUP TOT_EMP  \\\n",
       "10          Computer and Information Systems Managers  detailed     260   \n",
       "23             Architectural and Engineering Managers  detailed     270   \n",
       "40                                Management Analysts  detailed     410   \n",
       "43  Compensation, Benefits, and Job Analysis Speci...  detailed      70   \n",
       "45  Market Research Analysts and Marketing Special...  detailed     200   \n",
       "\n",
       "   EMP_PRSE JOBS_1000 LOC QUOTIENT  ... H_MEDIAN H_PCT75 H_PCT90 A_PCT10  \\\n",
       "10      5.9     1.518         0.56  ...    50.21   60.50   70.74  73,160   \n",
       "23      8.3     1.574         1.21  ...    66.25   82.81       #  96,960   \n",
       "40     10.0     2.362         0.50  ...    43.36   51.02   65.19  59,900   \n",
       "43     15.1     0.381         0.66  ...    31.93   38.91   56.89  47,630   \n",
       "45     12.6     1.182         0.27  ...    31.22   43.52   53.86  33,510   \n",
       "\n",
       "    A_PCT25 A_MEDIAN  A_PCT75  A_PCT90 ANNUAL HOURLY  \n",
       "10   87,260  104,440  125,830  147,140    NaN    NaN  \n",
       "23  116,310  137,800  172,240        #    NaN    NaN  \n",
       "40   72,920   90,190  106,120  135,590    NaN    NaN  \n",
       "43   55,220   66,420   80,940  118,320    NaN    NaN  \n",
       "45   44,540   64,930   90,510  112,030    NaN    NaN  \n",
       "\n",
       "[5 rows x 25 columns]"
      ]
     },
     "execution_count": 5,
     "metadata": {},
     "output_type": "execute_result"
    }
   ],
   "source": [
    "#look for occupation titles with relevant search values\n",
    "search_values = [\"Database\", \"Analyst\", \"Analysis\", \"Analytic\", \"Statistic\",\n",
    "                 \"Machine Learning\", \"Engineer\", \"Computer\", \"Information\", \"Research\",\n",
    "                \"Programmer\", \"Web\", \"Developer\", \"Systems\", \"Data\"]\n",
    "jobtitle_df = bls_df[bls_df.OCC_TITLE.str.contains('|'.join(search_values ))]\n",
    "jobtitle_df.head()"
   ]
  },
  {
   "cell_type": "code",
   "execution_count": 6,
   "metadata": {
    "scrolled": true
   },
   "outputs": [],
   "source": [
    "refinedjob = jobtitle_df[\"OCC_TITLE\"].unique()"
   ]
  },
  {
   "cell_type": "code",
   "execution_count": 7,
   "metadata": {
    "scrolled": false
   },
   "outputs": [
    {
     "data": {
      "text/html": [
       "<div>\n",
       "<style scoped>\n",
       "    .dataframe tbody tr th:only-of-type {\n",
       "        vertical-align: middle;\n",
       "    }\n",
       "\n",
       "    .dataframe tbody tr th {\n",
       "        vertical-align: top;\n",
       "    }\n",
       "\n",
       "    .dataframe thead th {\n",
       "        text-align: right;\n",
       "    }\n",
       "</style>\n",
       "<table border=\"1\" class=\"dataframe\">\n",
       "  <thead>\n",
       "    <tr style=\"text-align: right;\">\n",
       "      <th></th>\n",
       "      <th>PRIM_STATE</th>\n",
       "      <th>AREA</th>\n",
       "      <th>AREA_NAME</th>\n",
       "      <th>OCC_CODE</th>\n",
       "      <th>OCC_TITLE</th>\n",
       "      <th>OCC_GROUP</th>\n",
       "      <th>TOT_EMP</th>\n",
       "      <th>EMP_PRSE</th>\n",
       "      <th>JOBS_1000</th>\n",
       "      <th>LOC QUOTIENT</th>\n",
       "      <th>...</th>\n",
       "      <th>H_MEDIAN</th>\n",
       "      <th>H_PCT75</th>\n",
       "      <th>H_PCT90</th>\n",
       "      <th>A_PCT10</th>\n",
       "      <th>A_PCT25</th>\n",
       "      <th>A_MEDIAN</th>\n",
       "      <th>A_PCT75</th>\n",
       "      <th>A_PCT90</th>\n",
       "      <th>ANNUAL</th>\n",
       "      <th>HOURLY</th>\n",
       "    </tr>\n",
       "  </thead>\n",
       "  <tbody>\n",
       "    <tr>\n",
       "      <th>40</th>\n",
       "      <td>AK</td>\n",
       "      <td>11260</td>\n",
       "      <td>Anchorage, AK</td>\n",
       "      <td>13-1111</td>\n",
       "      <td>Management Analysts</td>\n",
       "      <td>detailed</td>\n",
       "      <td>410</td>\n",
       "      <td>10.0</td>\n",
       "      <td>2.362</td>\n",
       "      <td>0.50</td>\n",
       "      <td>...</td>\n",
       "      <td>43.36</td>\n",
       "      <td>51.02</td>\n",
       "      <td>65.19</td>\n",
       "      <td>59,900</td>\n",
       "      <td>72,920</td>\n",
       "      <td>90,190</td>\n",
       "      <td>106,120</td>\n",
       "      <td>135,590</td>\n",
       "      <td>NaN</td>\n",
       "      <td>NaN</td>\n",
       "    </tr>\n",
       "    <tr>\n",
       "      <th>43</th>\n",
       "      <td>AK</td>\n",
       "      <td>11260</td>\n",
       "      <td>Anchorage, AK</td>\n",
       "      <td>13-1141</td>\n",
       "      <td>Compensation, Benefits, and Job Analysis Speci...</td>\n",
       "      <td>detailed</td>\n",
       "      <td>70</td>\n",
       "      <td>15.1</td>\n",
       "      <td>0.381</td>\n",
       "      <td>0.66</td>\n",
       "      <td>...</td>\n",
       "      <td>31.93</td>\n",
       "      <td>38.91</td>\n",
       "      <td>56.89</td>\n",
       "      <td>47,630</td>\n",
       "      <td>55,220</td>\n",
       "      <td>66,420</td>\n",
       "      <td>80,940</td>\n",
       "      <td>118,320</td>\n",
       "      <td>NaN</td>\n",
       "      <td>NaN</td>\n",
       "    </tr>\n",
       "    <tr>\n",
       "      <th>45</th>\n",
       "      <td>AK</td>\n",
       "      <td>11260</td>\n",
       "      <td>Anchorage, AK</td>\n",
       "      <td>13-1161</td>\n",
       "      <td>Market Research Analysts and Marketing Special...</td>\n",
       "      <td>detailed</td>\n",
       "      <td>200</td>\n",
       "      <td>12.6</td>\n",
       "      <td>1.182</td>\n",
       "      <td>0.27</td>\n",
       "      <td>...</td>\n",
       "      <td>31.22</td>\n",
       "      <td>43.52</td>\n",
       "      <td>53.86</td>\n",
       "      <td>33,510</td>\n",
       "      <td>44,540</td>\n",
       "      <td>64,930</td>\n",
       "      <td>90,510</td>\n",
       "      <td>112,030</td>\n",
       "      <td>NaN</td>\n",
       "      <td>NaN</td>\n",
       "    </tr>\n",
       "    <tr>\n",
       "      <th>49</th>\n",
       "      <td>AK</td>\n",
       "      <td>11260</td>\n",
       "      <td>Anchorage, AK</td>\n",
       "      <td>13-2031</td>\n",
       "      <td>Budget Analysts</td>\n",
       "      <td>detailed</td>\n",
       "      <td>120</td>\n",
       "      <td>5.0</td>\n",
       "      <td>0.725</td>\n",
       "      <td>1.99</td>\n",
       "      <td>...</td>\n",
       "      <td>38.10</td>\n",
       "      <td>43.92</td>\n",
       "      <td>50.89</td>\n",
       "      <td>56,160</td>\n",
       "      <td>65,520</td>\n",
       "      <td>79,250</td>\n",
       "      <td>91,360</td>\n",
       "      <td>105,840</td>\n",
       "      <td>NaN</td>\n",
       "      <td>NaN</td>\n",
       "    </tr>\n",
       "    <tr>\n",
       "      <th>50</th>\n",
       "      <td>AK</td>\n",
       "      <td>11260</td>\n",
       "      <td>Anchorage, AK</td>\n",
       "      <td>13-2051</td>\n",
       "      <td>Financial Analysts</td>\n",
       "      <td>detailed</td>\n",
       "      <td>220</td>\n",
       "      <td>36.4</td>\n",
       "      <td>1.274</td>\n",
       "      <td>0.60</td>\n",
       "      <td>...</td>\n",
       "      <td>40.40</td>\n",
       "      <td>54.70</td>\n",
       "      <td>67.38</td>\n",
       "      <td>48,080</td>\n",
       "      <td>64,380</td>\n",
       "      <td>84,030</td>\n",
       "      <td>113,770</td>\n",
       "      <td>140,160</td>\n",
       "      <td>NaN</td>\n",
       "      <td>NaN</td>\n",
       "    </tr>\n",
       "  </tbody>\n",
       "</table>\n",
       "<p>5 rows × 25 columns</p>\n",
       "</div>"
      ],
      "text/plain": [
       "   PRIM_STATE   AREA      AREA_NAME OCC_CODE  \\\n",
       "40         AK  11260  Anchorage, AK  13-1111   \n",
       "43         AK  11260  Anchorage, AK  13-1141   \n",
       "45         AK  11260  Anchorage, AK  13-1161   \n",
       "49         AK  11260  Anchorage, AK  13-2031   \n",
       "50         AK  11260  Anchorage, AK  13-2051   \n",
       "\n",
       "                                            OCC_TITLE OCC_GROUP TOT_EMP  \\\n",
       "40                                Management Analysts  detailed     410   \n",
       "43  Compensation, Benefits, and Job Analysis Speci...  detailed      70   \n",
       "45  Market Research Analysts and Marketing Special...  detailed     200   \n",
       "49                                    Budget Analysts  detailed     120   \n",
       "50                                 Financial Analysts  detailed     220   \n",
       "\n",
       "   EMP_PRSE JOBS_1000 LOC QUOTIENT  ... H_MEDIAN H_PCT75 H_PCT90 A_PCT10  \\\n",
       "40     10.0     2.362         0.50  ...    43.36   51.02   65.19  59,900   \n",
       "43     15.1     0.381         0.66  ...    31.93   38.91   56.89  47,630   \n",
       "45     12.6     1.182         0.27  ...    31.22   43.52   53.86  33,510   \n",
       "49      5.0     0.725         1.99  ...    38.10   43.92   50.89  56,160   \n",
       "50     36.4     1.274         0.60  ...    40.40   54.70   67.38  48,080   \n",
       "\n",
       "   A_PCT25 A_MEDIAN  A_PCT75  A_PCT90 ANNUAL HOURLY  \n",
       "40  72,920   90,190  106,120  135,590    NaN    NaN  \n",
       "43  55,220   66,420   80,940  118,320    NaN    NaN  \n",
       "45  44,540   64,930   90,510  112,030    NaN    NaN  \n",
       "49  65,520   79,250   91,360  105,840    NaN    NaN  \n",
       "50  64,380   84,030  113,770  140,160    NaN    NaN  \n",
       "\n",
       "[5 rows x 25 columns]"
      ]
     },
     "execution_count": 7,
     "metadata": {},
     "output_type": "execute_result"
    }
   ],
   "source": [
    "#data cleaning/dropping rows of irrelevant data\n",
    "revisedjobtitle_df = jobtitle_df[(jobtitle_df.OCC_TITLE != \"Architectural and Engineering Managers\") \n",
    "                      & (jobtitle_df.OCC_TITLE != \"Computer and Mathematical Occupations\")\n",
    "                     & (jobtitle_df.OCC_TITLE != \"Computer User Support Specialists\")\n",
    "                     & (jobtitle_df.OCC_TITLE != \"Computer Network Support Specialists\")\n",
    "                     & (jobtitle_df.OCC_TITLE != \"Computer Occupations, All Other\")\n",
    "                     & (jobtitle_df.OCC_TITLE != \"Architecture and Engineering Occupations\")\n",
    "                     & (jobtitle_df.OCC_TITLE != \"Chemical Engineers\")\n",
    "                     & (jobtitle_df.OCC_TITLE != \"Civil Engineers\")\n",
    "                     & (jobtitle_df.OCC_TITLE != \"Computer Hardware Engineers\")\n",
    "                     & (jobtitle_df.OCC_TITLE != \"Electrical Engineers\")\n",
    "                     & (jobtitle_df.OCC_TITLE != \"Electronics Engineers, Except Computer\")\n",
    "                     & (jobtitle_df.OCC_TITLE != \"Environmental Engineers\")\n",
    "                     & (jobtitle_df.OCC_TITLE != \"Health and Safety Engineers, Except Mining Safety Engineers and Inspectors\")\n",
    "                     & (jobtitle_df.OCC_TITLE != \"Industrial Engineers\")\n",
    "                     & (jobtitle_df.OCC_TITLE != \"Mechanical Engineers\")\n",
    "                     & (jobtitle_df.OCC_TITLE != \"Petroleum Engineers\")\n",
    "                     & (jobtitle_df.OCC_TITLE != \"Engineers, All Other\")\n",
    "                     & (jobtitle_df.OCC_TITLE != \"Civil Engineering Technicians\")\n",
    "                     & (jobtitle_df.OCC_TITLE != \"Electrical and Electronics Engineering Technicians\")\n",
    "                     & (jobtitle_df.OCC_TITLE != \"Environmental Engineering Technicians\")\n",
    "                     & (jobtitle_df.OCC_TITLE != \"Engineering Technicians, Except Drafters, All Other\")\n",
    "                     & (jobtitle_df.OCC_TITLE != \"Medical Records and Health Information Technicians\")\n",
    "                     & (jobtitle_df.OCC_TITLE != \"Receptionists and Information Clerks\")\n",
    "                     & (jobtitle_df.OCC_TITLE != \"Information and Record Clerks, All Other\")\n",
    "                     & (jobtitle_df.OCC_TITLE != \"Data Entry Keyers\")\n",
    "                     & (jobtitle_df.OCC_TITLE != \"Operating Engineers and Other Construction Equipment Operators\")\n",
    "                     & (jobtitle_df.OCC_TITLE != \"Computer, Automated Teller, and Office Machine Repairers\")\n",
    "                     & (jobtitle_df.OCC_TITLE != \"Security and Fire Alarm Systems Installers\")\n",
    "                     & (jobtitle_df.OCC_TITLE != \"Stationary Engineers and Boiler Operators\")\n",
    "                     & (jobtitle_df.OCC_TITLE != \"Computer-Controlled Machine Tool Operators, Metal and Plastic\")\n",
    "                     & (jobtitle_df.OCC_TITLE != \"Computer Numerically Controlled Machine Tool Programmers, Metal and Plastic\")\n",
    "                     & (jobtitle_df.OCC_TITLE != \"Industrial Engineering Technicians\")\n",
    "                     & (jobtitle_df.OCC_TITLE != \"Aerospace Engineers\")\n",
    "                     & (jobtitle_df.OCC_TITLE != \"Materials Engineers\")\n",
    "                     & (jobtitle_df.OCC_TITLE != \"Mining and Geological Engineers, Including Mining Safety Engineers\")\n",
    "                     & (jobtitle_df.OCC_TITLE != \"Mechanical Engineering Technicians\")\n",
    "                     & (jobtitle_df.OCC_TITLE != \"Computer Science Teachers, Postsecondary\")\n",
    "                     & (jobtitle_df.OCC_TITLE != \"Computer Operators\")\n",
    "                     & (jobtitle_df.OCC_TITLE != \"Office Machine Operators, Except Computer\")\n",
    "                     & (jobtitle_df.OCC_TITLE != \"Aerospace Engineering and Operations Technicians\")\n",
    "                     & (jobtitle_df.OCC_TITLE != \"Engineering Teachers, Postsecondary\")\n",
    "                     & (jobtitle_df.OCC_TITLE != \"Marine Engineers and Naval Architects\")\n",
    "                     & (jobtitle_df.OCC_TITLE != \"Survey Researchers\")\n",
    "                     & (jobtitle_df.OCC_TITLE != \"Social Science Research Assistants\")\n",
    "                     & (jobtitle_df.OCC_TITLE != \"Biomedical Engineers\")\n",
    "                     & (jobtitle_df.OCC_TITLE != \"Nuclear Engineers\")\n",
    "                     & (jobtitle_df.OCC_TITLE != \"Broadcast News Analysts\")\n",
    "                     & (jobtitle_df.OCC_TITLE != \"Sound Engineering Technicians\")\n",
    "                     & (jobtitle_df.OCC_TITLE != \"Statistical Assistants\")\n",
    "                     & (jobtitle_df.OCC_TITLE != \"Aircraft Structure, Surfaces\")\n",
    "                     & (jobtitle_df.OCC_TITLE != \"Rigging, and Systems Assemblers\")\n",
    "                     & (jobtitle_df.OCC_TITLE != \"Ship Engineers\")\n",
    "                     & (jobtitle_df.OCC_TITLE != \"Rail Yard Engineers\")\n",
    "                     & (jobtitle_df.OCC_TITLE != \"Dinkey Operators, and Hostlers\")\n",
    "                     & (jobtitle_df.OCC_TITLE != \"Agricultural Engineers\")\n",
    "                     & (jobtitle_df.OCC_TITLE != \"Locomotive Engineers\")\n",
    "                     & (jobtitle_df.OCC_TITLE != \"Airline Pilots, Copilots, and Flight Engineers\")\n",
    "                     & (jobtitle_df.OCC_TITLE != \"Aircraft Structure, Surfaces, Rigging, and Systems Assemblers\")\n",
    "                     & (jobtitle_df.OCC_TITLE != \"Rail Yard Engineers, Dinkey Operators, and Hostlers\")\n",
    "                     & (jobtitle_df.OCC_TITLE != \"Statisticians\")\n",
    "                     & (jobtitle_df.OCC_TITLE != \"Computer and Information Systems Managers\")]\n",
    "revisedjobtitle_df.head()"
   ]
  },
  {
   "cell_type": "code",
   "execution_count": 8,
   "metadata": {
    "scrolled": true
   },
   "outputs": [
    {
     "data": {
      "text/plain": [
       "Market Research Analysts and Marketing Specialists      380\n",
       "Network and Computer Systems Administrators             373\n",
       "Management Analysts                                     373\n",
       "Computer Systems Analysts                               359\n",
       "Software Developers, Applications                       337\n",
       "Computer Programmers                                    281\n",
       "Financial Analysts                                      271\n",
       "Software Developers, Systems Software                   247\n",
       "Web Developers                                          241\n",
       "Computer Network Architects                             225\n",
       "Database Administrators                                 223\n",
       "Compensation, Benefits, and Job Analysis Specialists    210\n",
       "Information Security Analysts                           183\n",
       "Credit Analysts                                         177\n",
       "Operations Research Analysts                            172\n",
       "Budget Analysts                                         162\n",
       "Sales Engineers                                         141\n",
       "Computer and Information Research Scientists             69\n",
       "Name: OCC_TITLE, dtype: int64"
      ]
     },
     "execution_count": 8,
     "metadata": {},
     "output_type": "execute_result"
    }
   ],
   "source": [
    "revisedjobtitle_df[\"OCC_TITLE\"].value_counts()"
   ]
  },
  {
   "cell_type": "code",
   "execution_count": 9,
   "metadata": {
    "scrolled": true
   },
   "outputs": [
    {
     "data": {
      "text/html": [
       "<div>\n",
       "<style scoped>\n",
       "    .dataframe tbody tr th:only-of-type {\n",
       "        vertical-align: middle;\n",
       "    }\n",
       "\n",
       "    .dataframe tbody tr th {\n",
       "        vertical-align: top;\n",
       "    }\n",
       "\n",
       "    .dataframe thead th {\n",
       "        text-align: right;\n",
       "    }\n",
       "</style>\n",
       "<table border=\"1\" class=\"dataframe\">\n",
       "  <thead>\n",
       "    <tr style=\"text-align: right;\">\n",
       "      <th></th>\n",
       "      <th>PRIM_STATE</th>\n",
       "      <th>AREA</th>\n",
       "      <th>AREA_NAME</th>\n",
       "      <th>OCC_TITLE</th>\n",
       "      <th>TOT_EMP</th>\n",
       "      <th>JOBS_1000</th>\n",
       "      <th>A_MEAN</th>\n",
       "      <th>A_MEDIAN</th>\n",
       "    </tr>\n",
       "  </thead>\n",
       "  <tbody>\n",
       "    <tr>\n",
       "      <th>40</th>\n",
       "      <td>AK</td>\n",
       "      <td>11260</td>\n",
       "      <td>Anchorage, AK</td>\n",
       "      <td>Management Analysts</td>\n",
       "      <td>410.0</td>\n",
       "      <td>2.362</td>\n",
       "      <td>96540.0</td>\n",
       "      <td>90190.0</td>\n",
       "    </tr>\n",
       "    <tr>\n",
       "      <th>43</th>\n",
       "      <td>AK</td>\n",
       "      <td>11260</td>\n",
       "      <td>Anchorage, AK</td>\n",
       "      <td>Compensation, Benefits, and Job Analysis Speci...</td>\n",
       "      <td>70.0</td>\n",
       "      <td>0.381</td>\n",
       "      <td>73150.0</td>\n",
       "      <td>66420.0</td>\n",
       "    </tr>\n",
       "    <tr>\n",
       "      <th>45</th>\n",
       "      <td>AK</td>\n",
       "      <td>11260</td>\n",
       "      <td>Anchorage, AK</td>\n",
       "      <td>Market Research Analysts and Marketing Special...</td>\n",
       "      <td>200.0</td>\n",
       "      <td>1.182</td>\n",
       "      <td>68140.0</td>\n",
       "      <td>64930.0</td>\n",
       "    </tr>\n",
       "    <tr>\n",
       "      <th>49</th>\n",
       "      <td>AK</td>\n",
       "      <td>11260</td>\n",
       "      <td>Anchorage, AK</td>\n",
       "      <td>Budget Analysts</td>\n",
       "      <td>120.0</td>\n",
       "      <td>0.725</td>\n",
       "      <td>79480.0</td>\n",
       "      <td>79250.0</td>\n",
       "    </tr>\n",
       "    <tr>\n",
       "      <th>50</th>\n",
       "      <td>AK</td>\n",
       "      <td>11260</td>\n",
       "      <td>Anchorage, AK</td>\n",
       "      <td>Financial Analysts</td>\n",
       "      <td>220.0</td>\n",
       "      <td>1.274</td>\n",
       "      <td>95410.0</td>\n",
       "      <td>84030.0</td>\n",
       "    </tr>\n",
       "  </tbody>\n",
       "</table>\n",
       "</div>"
      ],
      "text/plain": [
       "   PRIM_STATE   AREA      AREA_NAME  \\\n",
       "40         AK  11260  Anchorage, AK   \n",
       "43         AK  11260  Anchorage, AK   \n",
       "45         AK  11260  Anchorage, AK   \n",
       "49         AK  11260  Anchorage, AK   \n",
       "50         AK  11260  Anchorage, AK   \n",
       "\n",
       "                                            OCC_TITLE  TOT_EMP  JOBS_1000  \\\n",
       "40                                Management Analysts    410.0      2.362   \n",
       "43  Compensation, Benefits, and Job Analysis Speci...     70.0      0.381   \n",
       "45  Market Research Analysts and Marketing Special...    200.0      1.182   \n",
       "49                                    Budget Analysts    120.0      0.725   \n",
       "50                                 Financial Analysts    220.0      1.274   \n",
       "\n",
       "     A_MEAN  A_MEDIAN  \n",
       "40  96540.0   90190.0  \n",
       "43  73150.0   66420.0  \n",
       "45  68140.0   64930.0  \n",
       "49  79480.0   79250.0  \n",
       "50  95410.0   84030.0  "
      ]
     },
     "execution_count": 9,
     "metadata": {},
     "output_type": "execute_result"
    }
   ],
   "source": [
    "#data formatting and changing data types\n",
    "employment_df = revisedjobtitle_df[[\"PRIM_STATE\", \"AREA\", \"AREA_NAME\", \"OCC_TITLE\", \n",
    "                                \"TOT_EMP\", \"JOBS_1000\", \"A_MEAN\", \"A_MEDIAN\"]]\n",
    "employment_df = employment_df[employment_df.TOT_EMP != '**']\n",
    "employment_df = employment_df[employment_df.JOBS_1000 != '**']\n",
    "employment_df = employment_df[employment_df.A_MEAN != '*']\n",
    "employment_df = employment_df[employment_df.A_MEDIAN != '*']\n",
    "employment_df['TOT_EMP'] = employment_df['TOT_EMP'].str.replace(',', '').astype(float)\n",
    "employment_df['JOBS_1000'] = employment_df['JOBS_1000'].str.replace(',', '').astype(float)\n",
    "employment_df['A_MEAN'] = employment_df['A_MEAN'].str.replace(',', '').astype(float)\n",
    "employment_df['A_MEDIAN'] = employment_df['A_MEDIAN'].str.replace(',', '').astype(float)\n",
    "employment_df.head()"
   ]
  },
  {
   "cell_type": "code",
   "execution_count": 10,
   "metadata": {},
   "outputs": [
    {
     "data": {
      "text/html": [
       "<div>\n",
       "<style scoped>\n",
       "    .dataframe tbody tr th:only-of-type {\n",
       "        vertical-align: middle;\n",
       "    }\n",
       "\n",
       "    .dataframe tbody tr th {\n",
       "        vertical-align: top;\n",
       "    }\n",
       "\n",
       "    .dataframe thead th {\n",
       "        text-align: right;\n",
       "    }\n",
       "</style>\n",
       "<table border=\"1\" class=\"dataframe\">\n",
       "  <thead>\n",
       "    <tr style=\"text-align: right;\">\n",
       "      <th></th>\n",
       "      <th>PRIM_STATE</th>\n",
       "      <th>AREA</th>\n",
       "      <th>AREA_NAME</th>\n",
       "      <th>OCC_TITLE</th>\n",
       "      <th>TOT_EMP</th>\n",
       "      <th>JOBS_1000</th>\n",
       "      <th>A_MEAN</th>\n",
       "      <th>A_MEDIAN</th>\n",
       "    </tr>\n",
       "  </thead>\n",
       "  <tbody>\n",
       "    <tr>\n",
       "      <th>40</th>\n",
       "      <td>AK</td>\n",
       "      <td>11260</td>\n",
       "      <td>Anchorage, AK</td>\n",
       "      <td>Business Analyst</td>\n",
       "      <td>410.0</td>\n",
       "      <td>2.362</td>\n",
       "      <td>96540.0</td>\n",
       "      <td>90190.0</td>\n",
       "    </tr>\n",
       "    <tr>\n",
       "      <th>43</th>\n",
       "      <td>AK</td>\n",
       "      <td>11260</td>\n",
       "      <td>Anchorage, AK</td>\n",
       "      <td>Data Analyst</td>\n",
       "      <td>70.0</td>\n",
       "      <td>0.381</td>\n",
       "      <td>73150.0</td>\n",
       "      <td>66420.0</td>\n",
       "    </tr>\n",
       "    <tr>\n",
       "      <th>45</th>\n",
       "      <td>AK</td>\n",
       "      <td>11260</td>\n",
       "      <td>Anchorage, AK</td>\n",
       "      <td>Data Analyst</td>\n",
       "      <td>200.0</td>\n",
       "      <td>1.182</td>\n",
       "      <td>68140.0</td>\n",
       "      <td>64930.0</td>\n",
       "    </tr>\n",
       "    <tr>\n",
       "      <th>49</th>\n",
       "      <td>AK</td>\n",
       "      <td>11260</td>\n",
       "      <td>Anchorage, AK</td>\n",
       "      <td>Business Analyst</td>\n",
       "      <td>120.0</td>\n",
       "      <td>0.725</td>\n",
       "      <td>79480.0</td>\n",
       "      <td>79250.0</td>\n",
       "    </tr>\n",
       "    <tr>\n",
       "      <th>50</th>\n",
       "      <td>AK</td>\n",
       "      <td>11260</td>\n",
       "      <td>Anchorage, AK</td>\n",
       "      <td>Business Analyst</td>\n",
       "      <td>220.0</td>\n",
       "      <td>1.274</td>\n",
       "      <td>95410.0</td>\n",
       "      <td>84030.0</td>\n",
       "    </tr>\n",
       "  </tbody>\n",
       "</table>\n",
       "</div>"
      ],
      "text/plain": [
       "   PRIM_STATE   AREA      AREA_NAME         OCC_TITLE  TOT_EMP  JOBS_1000  \\\n",
       "40         AK  11260  Anchorage, AK  Business Analyst    410.0      2.362   \n",
       "43         AK  11260  Anchorage, AK      Data Analyst     70.0      0.381   \n",
       "45         AK  11260  Anchorage, AK      Data Analyst    200.0      1.182   \n",
       "49         AK  11260  Anchorage, AK  Business Analyst    120.0      0.725   \n",
       "50         AK  11260  Anchorage, AK  Business Analyst    220.0      1.274   \n",
       "\n",
       "     A_MEAN  A_MEDIAN  \n",
       "40  96540.0   90190.0  \n",
       "43  73150.0   66420.0  \n",
       "45  68140.0   64930.0  \n",
       "49  79480.0   79250.0  \n",
       "50  95410.0   84030.0  "
      ]
     },
     "execution_count": 10,
     "metadata": {},
     "output_type": "execute_result"
    }
   ],
   "source": [
    "#more data cleaning\n",
    "employment_df[\"OCC_TITLE\"] = employment_df[\"OCC_TITLE\"].replace({\n",
    "                                      \"Market Research Analysts and Marketing Specialists\": \"Data Analyst\",\n",
    "                                      \"Management Analysts\" : \"Business Analyst\",\n",
    "                                      \"Network and Computer Systems Administrators\" : \"Data Architect\",\n",
    "                                      \"Computer Systems Analysts\" : \"Data Analyst\",\n",
    "                                      \"Software Developers, Applications\" : \"Software Engineer\",\n",
    "                                      \"Computer Programmers\":\"Software Engineer\",\n",
    "                                      \"Financial Analysts\": \"Business Analyst\",\n",
    "                                      \"Software Developers, Systems Software\" : \"Software Engineer\",\n",
    "                                      \"Computer Network Architects\" : \"Data Architect\",\n",
    "                                      \"Database Administrators\" : \"Data Architect\",\n",
    "                                      \"Compensation, Benefits, and Job Analysis Specialists\" : \"Data Analyst\",\n",
    "                                      \"Information Security Analysts\" : \"Data Analyst\",\n",
    "                                      \"Credit Analysts\" : \"Business Analyst\",\n",
    "                                      \"Operations Research Analysts\" : \"Data Analyst\",\n",
    "                                      \"Budget Analysts\" : \"Business Analyst\",\n",
    "                                      \"Sales Engineers\" : \"Data Engineer\",\n",
    "                                      \"Computer and Information Research Scientists\": \"Data Scientist\",\n",
    "                                      \"Web Developers\" : \"Web Developer\"})\n",
    "employment_df.head()"
   ]
  },
  {
   "cell_type": "code",
   "execution_count": 32,
   "metadata": {
    "scrolled": true
   },
   "outputs": [
    {
     "data": {
      "text/html": [
       "<div>\n",
       "<style scoped>\n",
       "    .dataframe tbody tr th:only-of-type {\n",
       "        vertical-align: middle;\n",
       "    }\n",
       "\n",
       "    .dataframe tbody tr th {\n",
       "        vertical-align: top;\n",
       "    }\n",
       "\n",
       "    .dataframe thead th {\n",
       "        text-align: right;\n",
       "    }\n",
       "</style>\n",
       "<table border=\"1\" class=\"dataframe\">\n",
       "  <thead>\n",
       "    <tr style=\"text-align: right;\">\n",
       "      <th></th>\n",
       "      <th>Employment Count</th>\n",
       "    </tr>\n",
       "  </thead>\n",
       "  <tbody>\n",
       "    <tr>\n",
       "      <th>0</th>\n",
       "      <td>4716810.0</td>\n",
       "    </tr>\n",
       "  </tbody>\n",
       "</table>\n",
       "</div>"
      ],
      "text/plain": [
       "   Employment Count\n",
       "0         4716810.0"
      ]
     },
     "execution_count": 32,
     "metadata": {},
     "output_type": "execute_result"
    }
   ],
   "source": [
    "#calculate total employment figures\n",
    "totalemp = employment_df[\"TOT_EMP\"].sum()\n",
    "totalemp_df = pd.DataFrame({\"Employment Count\": [totalemp]})\n",
    "totalemp_df"
   ]
  },
  {
   "cell_type": "code",
   "execution_count": 33,
   "metadata": {},
   "outputs": [],
   "source": [
    "bystategrouped_df = employment_df.groupby([\"PRIM_STATE\"])"
   ]
  },
  {
   "cell_type": "code",
   "execution_count": 34,
   "metadata": {},
   "outputs": [],
   "source": [
    "statesum = bystategrouped_df[\"TOT_EMP\"].sum()\n",
    "stateareamean = bystategrouped_df[\"A_MEAN\"].mean()\n",
    "stateareamedian = bystategrouped_df[\"A_MEDIAN\"].median()\n",
    "states = employment_df[\"PRIM_STATE\"].unique()"
   ]
  },
  {
   "cell_type": "code",
   "execution_count": 35,
   "metadata": {
    "scrolled": false
   },
   "outputs": [
    {
     "data": {
      "text/html": [
       "<div>\n",
       "<style scoped>\n",
       "    .dataframe tbody tr th:only-of-type {\n",
       "        vertical-align: middle;\n",
       "    }\n",
       "\n",
       "    .dataframe tbody tr th {\n",
       "        vertical-align: top;\n",
       "    }\n",
       "\n",
       "    .dataframe thead th {\n",
       "        text-align: right;\n",
       "    }\n",
       "</style>\n",
       "<table border=\"1\" class=\"dataframe\">\n",
       "  <thead>\n",
       "    <tr style=\"text-align: right;\">\n",
       "      <th></th>\n",
       "      <th>State</th>\n",
       "      <th>Total Employment</th>\n",
       "      <th>Annual Salary Average</th>\n",
       "      <th>Annual Salary Median</th>\n",
       "    </tr>\n",
       "    <tr>\n",
       "      <th>PRIM_STATE</th>\n",
       "      <th></th>\n",
       "      <th></th>\n",
       "      <th></th>\n",
       "      <th></th>\n",
       "    </tr>\n",
       "  </thead>\n",
       "  <tbody>\n",
       "    <tr>\n",
       "      <th>AK</th>\n",
       "      <td>AK</td>\n",
       "      <td>3420.0</td>\n",
       "      <td>82139.000000</td>\n",
       "      <td>77655.0</td>\n",
       "    </tr>\n",
       "    <tr>\n",
       "      <th>AL</th>\n",
       "      <td>AL</td>\n",
       "      <td>38970.0</td>\n",
       "      <td>77046.593407</td>\n",
       "      <td>73990.0</td>\n",
       "    </tr>\n",
       "    <tr>\n",
       "      <th>AR</th>\n",
       "      <td>AR</td>\n",
       "      <td>25470.0</td>\n",
       "      <td>70065.535714</td>\n",
       "      <td>64250.0</td>\n",
       "    </tr>\n",
       "    <tr>\n",
       "      <th>AZ</th>\n",
       "      <td>AZ</td>\n",
       "      <td>93840.0</td>\n",
       "      <td>79615.384615</td>\n",
       "      <td>74640.0</td>\n",
       "    </tr>\n",
       "    <tr>\n",
       "      <th>CA</th>\n",
       "      <td>CA</td>\n",
       "      <td>703480.0</td>\n",
       "      <td>90707.838710</td>\n",
       "      <td>85575.0</td>\n",
       "    </tr>\n",
       "  </tbody>\n",
       "</table>\n",
       "</div>"
      ],
      "text/plain": [
       "           State  Total Employment  Annual Salary Average  \\\n",
       "PRIM_STATE                                                  \n",
       "AK            AK            3420.0           82139.000000   \n",
       "AL            AL           38970.0           77046.593407   \n",
       "AR            AR           25470.0           70065.535714   \n",
       "AZ            AZ           93840.0           79615.384615   \n",
       "CA            CA          703480.0           90707.838710   \n",
       "\n",
       "            Annual Salary Median  \n",
       "PRIM_STATE                        \n",
       "AK                       77655.0  \n",
       "AL                       73990.0  \n",
       "AR                       64250.0  \n",
       "AZ                       74640.0  \n",
       "CA                       85575.0  "
      ]
     },
     "execution_count": 35,
     "metadata": {},
     "output_type": "execute_result"
    }
   ],
   "source": [
    "bystatesummary_df = pd.DataFrame({\"State\" : states,\n",
    "                                    \"Total Employment\": statesum,\n",
    "                                    \"Annual Salary Average\" : stateareamean,\n",
    "                                    \"Annual Salary Median\" : stateareamedian})\n",
    "bystatesummary_df.head()"
   ]
  },
  {
   "cell_type": "code",
   "execution_count": 36,
   "metadata": {},
   "outputs": [
    {
     "data": {
      "application/vnd.plotly.v1+json": {
       "config": {
        "plotlyServerURL": "https://plot.ly"
       },
       "data": [
        {
         "colorbar": {
          "title": {
           "text": "Employment Count"
          }
         },
         "colorscale": [
          [
           0,
           "rgb(243, 203, 211)"
          ],
          [
           0.16666666666666666,
           "rgb(234, 169, 189)"
          ],
          [
           0.3333333333333333,
           "rgb(221, 136, 172)"
          ],
          [
           0.5,
           "rgb(202, 105, 157)"
          ],
          [
           0.6666666666666666,
           "rgb(177, 77, 142)"
          ],
          [
           0.8333333333333334,
           "rgb(145, 53, 125)"
          ],
          [
           1,
           "rgb(108, 33, 103)"
          ]
         ],
         "locationmode": "USA-states",
         "locations": [
          "AK",
          "AL",
          "AR",
          "AZ",
          "CA",
          "CO",
          "CT",
          "DC",
          "DE",
          "FL",
          "GA",
          "HI",
          "IA",
          "ID",
          "IL",
          "IN",
          "KS",
          "KY",
          "LA",
          "MA",
          "MD",
          "ME",
          "MI",
          "MN",
          "MO",
          "MS",
          "MT",
          "NC",
          "ND",
          "NE",
          "NH",
          "NJ",
          "NM",
          "NV",
          "NY",
          "OH",
          "OK",
          "OR",
          "PA",
          "PR",
          "RI",
          "SC",
          "SD",
          "TN",
          "TX",
          "UT",
          "VA",
          "VT",
          "WA",
          "WI",
          "WV",
          "WY"
         ],
         "type": "choropleth",
         "z": [
          3420,
          38970,
          25470,
          93840,
          703480,
          116650,
          54160,
          269460,
          1220,
          240780,
          147110,
          10580,
          36270,
          12310,
          200290,
          56000,
          10400,
          24810,
          17740,
          174120,
          78760,
          7390,
          114920,
          104400,
          108650,
          8080,
          2390,
          140910,
          5250,
          26120,
          6790,
          15160,
          12400,
          19850,
          502750,
          159850,
          26750,
          58840,
          204490,
          10370,
          17940,
          38710,
          7650,
          58880,
          358560,
          50110,
          70380,
          4920,
          173820,
          78050,
          5590,
          1000
         ]
        }
       ],
       "layout": {
        "geo": {
         "scope": "usa"
        },
        "template": {
         "data": {
          "bar": [
           {
            "error_x": {
             "color": "#2a3f5f"
            },
            "error_y": {
             "color": "#2a3f5f"
            },
            "marker": {
             "line": {
              "color": "#E5ECF6",
              "width": 0.5
             }
            },
            "type": "bar"
           }
          ],
          "barpolar": [
           {
            "marker": {
             "line": {
              "color": "#E5ECF6",
              "width": 0.5
             }
            },
            "type": "barpolar"
           }
          ],
          "carpet": [
           {
            "aaxis": {
             "endlinecolor": "#2a3f5f",
             "gridcolor": "white",
             "linecolor": "white",
             "minorgridcolor": "white",
             "startlinecolor": "#2a3f5f"
            },
            "baxis": {
             "endlinecolor": "#2a3f5f",
             "gridcolor": "white",
             "linecolor": "white",
             "minorgridcolor": "white",
             "startlinecolor": "#2a3f5f"
            },
            "type": "carpet"
           }
          ],
          "choropleth": [
           {
            "colorbar": {
             "outlinewidth": 0,
             "ticks": ""
            },
            "type": "choropleth"
           }
          ],
          "contour": [
           {
            "colorbar": {
             "outlinewidth": 0,
             "ticks": ""
            },
            "colorscale": [
             [
              0,
              "#0d0887"
             ],
             [
              0.1111111111111111,
              "#46039f"
             ],
             [
              0.2222222222222222,
              "#7201a8"
             ],
             [
              0.3333333333333333,
              "#9c179e"
             ],
             [
              0.4444444444444444,
              "#bd3786"
             ],
             [
              0.5555555555555556,
              "#d8576b"
             ],
             [
              0.6666666666666666,
              "#ed7953"
             ],
             [
              0.7777777777777778,
              "#fb9f3a"
             ],
             [
              0.8888888888888888,
              "#fdca26"
             ],
             [
              1,
              "#f0f921"
             ]
            ],
            "type": "contour"
           }
          ],
          "contourcarpet": [
           {
            "colorbar": {
             "outlinewidth": 0,
             "ticks": ""
            },
            "type": "contourcarpet"
           }
          ],
          "heatmap": [
           {
            "colorbar": {
             "outlinewidth": 0,
             "ticks": ""
            },
            "colorscale": [
             [
              0,
              "#0d0887"
             ],
             [
              0.1111111111111111,
              "#46039f"
             ],
             [
              0.2222222222222222,
              "#7201a8"
             ],
             [
              0.3333333333333333,
              "#9c179e"
             ],
             [
              0.4444444444444444,
              "#bd3786"
             ],
             [
              0.5555555555555556,
              "#d8576b"
             ],
             [
              0.6666666666666666,
              "#ed7953"
             ],
             [
              0.7777777777777778,
              "#fb9f3a"
             ],
             [
              0.8888888888888888,
              "#fdca26"
             ],
             [
              1,
              "#f0f921"
             ]
            ],
            "type": "heatmap"
           }
          ],
          "heatmapgl": [
           {
            "colorbar": {
             "outlinewidth": 0,
             "ticks": ""
            },
            "colorscale": [
             [
              0,
              "#0d0887"
             ],
             [
              0.1111111111111111,
              "#46039f"
             ],
             [
              0.2222222222222222,
              "#7201a8"
             ],
             [
              0.3333333333333333,
              "#9c179e"
             ],
             [
              0.4444444444444444,
              "#bd3786"
             ],
             [
              0.5555555555555556,
              "#d8576b"
             ],
             [
              0.6666666666666666,
              "#ed7953"
             ],
             [
              0.7777777777777778,
              "#fb9f3a"
             ],
             [
              0.8888888888888888,
              "#fdca26"
             ],
             [
              1,
              "#f0f921"
             ]
            ],
            "type": "heatmapgl"
           }
          ],
          "histogram": [
           {
            "marker": {
             "colorbar": {
              "outlinewidth": 0,
              "ticks": ""
             }
            },
            "type": "histogram"
           }
          ],
          "histogram2d": [
           {
            "colorbar": {
             "outlinewidth": 0,
             "ticks": ""
            },
            "colorscale": [
             [
              0,
              "#0d0887"
             ],
             [
              0.1111111111111111,
              "#46039f"
             ],
             [
              0.2222222222222222,
              "#7201a8"
             ],
             [
              0.3333333333333333,
              "#9c179e"
             ],
             [
              0.4444444444444444,
              "#bd3786"
             ],
             [
              0.5555555555555556,
              "#d8576b"
             ],
             [
              0.6666666666666666,
              "#ed7953"
             ],
             [
              0.7777777777777778,
              "#fb9f3a"
             ],
             [
              0.8888888888888888,
              "#fdca26"
             ],
             [
              1,
              "#f0f921"
             ]
            ],
            "type": "histogram2d"
           }
          ],
          "histogram2dcontour": [
           {
            "colorbar": {
             "outlinewidth": 0,
             "ticks": ""
            },
            "colorscale": [
             [
              0,
              "#0d0887"
             ],
             [
              0.1111111111111111,
              "#46039f"
             ],
             [
              0.2222222222222222,
              "#7201a8"
             ],
             [
              0.3333333333333333,
              "#9c179e"
             ],
             [
              0.4444444444444444,
              "#bd3786"
             ],
             [
              0.5555555555555556,
              "#d8576b"
             ],
             [
              0.6666666666666666,
              "#ed7953"
             ],
             [
              0.7777777777777778,
              "#fb9f3a"
             ],
             [
              0.8888888888888888,
              "#fdca26"
             ],
             [
              1,
              "#f0f921"
             ]
            ],
            "type": "histogram2dcontour"
           }
          ],
          "mesh3d": [
           {
            "colorbar": {
             "outlinewidth": 0,
             "ticks": ""
            },
            "type": "mesh3d"
           }
          ],
          "parcoords": [
           {
            "line": {
             "colorbar": {
              "outlinewidth": 0,
              "ticks": ""
             }
            },
            "type": "parcoords"
           }
          ],
          "scatter": [
           {
            "marker": {
             "colorbar": {
              "outlinewidth": 0,
              "ticks": ""
             }
            },
            "type": "scatter"
           }
          ],
          "scatter3d": [
           {
            "line": {
             "colorbar": {
              "outlinewidth": 0,
              "ticks": ""
             }
            },
            "marker": {
             "colorbar": {
              "outlinewidth": 0,
              "ticks": ""
             }
            },
            "type": "scatter3d"
           }
          ],
          "scattercarpet": [
           {
            "marker": {
             "colorbar": {
              "outlinewidth": 0,
              "ticks": ""
             }
            },
            "type": "scattercarpet"
           }
          ],
          "scattergeo": [
           {
            "marker": {
             "colorbar": {
              "outlinewidth": 0,
              "ticks": ""
             }
            },
            "type": "scattergeo"
           }
          ],
          "scattergl": [
           {
            "marker": {
             "colorbar": {
              "outlinewidth": 0,
              "ticks": ""
             }
            },
            "type": "scattergl"
           }
          ],
          "scattermapbox": [
           {
            "marker": {
             "colorbar": {
              "outlinewidth": 0,
              "ticks": ""
             }
            },
            "type": "scattermapbox"
           }
          ],
          "scatterpolar": [
           {
            "marker": {
             "colorbar": {
              "outlinewidth": 0,
              "ticks": ""
             }
            },
            "type": "scatterpolar"
           }
          ],
          "scatterpolargl": [
           {
            "marker": {
             "colorbar": {
              "outlinewidth": 0,
              "ticks": ""
             }
            },
            "type": "scatterpolargl"
           }
          ],
          "scatterternary": [
           {
            "marker": {
             "colorbar": {
              "outlinewidth": 0,
              "ticks": ""
             }
            },
            "type": "scatterternary"
           }
          ],
          "surface": [
           {
            "colorbar": {
             "outlinewidth": 0,
             "ticks": ""
            },
            "colorscale": [
             [
              0,
              "#0d0887"
             ],
             [
              0.1111111111111111,
              "#46039f"
             ],
             [
              0.2222222222222222,
              "#7201a8"
             ],
             [
              0.3333333333333333,
              "#9c179e"
             ],
             [
              0.4444444444444444,
              "#bd3786"
             ],
             [
              0.5555555555555556,
              "#d8576b"
             ],
             [
              0.6666666666666666,
              "#ed7953"
             ],
             [
              0.7777777777777778,
              "#fb9f3a"
             ],
             [
              0.8888888888888888,
              "#fdca26"
             ],
             [
              1,
              "#f0f921"
             ]
            ],
            "type": "surface"
           }
          ],
          "table": [
           {
            "cells": {
             "fill": {
              "color": "#EBF0F8"
             },
             "line": {
              "color": "white"
             }
            },
            "header": {
             "fill": {
              "color": "#C8D4E3"
             },
             "line": {
              "color": "white"
             }
            },
            "type": "table"
           }
          ]
         },
         "layout": {
          "annotationdefaults": {
           "arrowcolor": "#2a3f5f",
           "arrowhead": 0,
           "arrowwidth": 1
          },
          "colorscale": {
           "diverging": [
            [
             0,
             "#8e0152"
            ],
            [
             0.1,
             "#c51b7d"
            ],
            [
             0.2,
             "#de77ae"
            ],
            [
             0.3,
             "#f1b6da"
            ],
            [
             0.4,
             "#fde0ef"
            ],
            [
             0.5,
             "#f7f7f7"
            ],
            [
             0.6,
             "#e6f5d0"
            ],
            [
             0.7,
             "#b8e186"
            ],
            [
             0.8,
             "#7fbc41"
            ],
            [
             0.9,
             "#4d9221"
            ],
            [
             1,
             "#276419"
            ]
           ],
           "sequential": [
            [
             0,
             "#0d0887"
            ],
            [
             0.1111111111111111,
             "#46039f"
            ],
            [
             0.2222222222222222,
             "#7201a8"
            ],
            [
             0.3333333333333333,
             "#9c179e"
            ],
            [
             0.4444444444444444,
             "#bd3786"
            ],
            [
             0.5555555555555556,
             "#d8576b"
            ],
            [
             0.6666666666666666,
             "#ed7953"
            ],
            [
             0.7777777777777778,
             "#fb9f3a"
            ],
            [
             0.8888888888888888,
             "#fdca26"
            ],
            [
             1,
             "#f0f921"
            ]
           ],
           "sequentialminus": [
            [
             0,
             "#0d0887"
            ],
            [
             0.1111111111111111,
             "#46039f"
            ],
            [
             0.2222222222222222,
             "#7201a8"
            ],
            [
             0.3333333333333333,
             "#9c179e"
            ],
            [
             0.4444444444444444,
             "#bd3786"
            ],
            [
             0.5555555555555556,
             "#d8576b"
            ],
            [
             0.6666666666666666,
             "#ed7953"
            ],
            [
             0.7777777777777778,
             "#fb9f3a"
            ],
            [
             0.8888888888888888,
             "#fdca26"
            ],
            [
             1,
             "#f0f921"
            ]
           ]
          },
          "colorway": [
           "#636efa",
           "#EF553B",
           "#00cc96",
           "#ab63fa",
           "#FFA15A",
           "#19d3f3",
           "#FF6692",
           "#B6E880",
           "#FF97FF",
           "#FECB52"
          ],
          "font": {
           "color": "#2a3f5f"
          },
          "geo": {
           "bgcolor": "white",
           "lakecolor": "white",
           "landcolor": "#E5ECF6",
           "showlakes": true,
           "showland": true,
           "subunitcolor": "white"
          },
          "hoverlabel": {
           "align": "left"
          },
          "hovermode": "closest",
          "mapbox": {
           "style": "light"
          },
          "paper_bgcolor": "white",
          "plot_bgcolor": "#E5ECF6",
          "polar": {
           "angularaxis": {
            "gridcolor": "white",
            "linecolor": "white",
            "ticks": ""
           },
           "bgcolor": "#E5ECF6",
           "radialaxis": {
            "gridcolor": "white",
            "linecolor": "white",
            "ticks": ""
           }
          },
          "scene": {
           "xaxis": {
            "backgroundcolor": "#E5ECF6",
            "gridcolor": "white",
            "gridwidth": 2,
            "linecolor": "white",
            "showbackground": true,
            "ticks": "",
            "zerolinecolor": "white"
           },
           "yaxis": {
            "backgroundcolor": "#E5ECF6",
            "gridcolor": "white",
            "gridwidth": 2,
            "linecolor": "white",
            "showbackground": true,
            "ticks": "",
            "zerolinecolor": "white"
           },
           "zaxis": {
            "backgroundcolor": "#E5ECF6",
            "gridcolor": "white",
            "gridwidth": 2,
            "linecolor": "white",
            "showbackground": true,
            "ticks": "",
            "zerolinecolor": "white"
           }
          },
          "shapedefaults": {
           "line": {
            "color": "#2a3f5f"
           }
          },
          "ternary": {
           "aaxis": {
            "gridcolor": "white",
            "linecolor": "white",
            "ticks": ""
           },
           "baxis": {
            "gridcolor": "white",
            "linecolor": "white",
            "ticks": ""
           },
           "bgcolor": "#E5ECF6",
           "caxis": {
            "gridcolor": "white",
            "linecolor": "white",
            "ticks": ""
           }
          },
          "title": {
           "x": 0.05
          },
          "xaxis": {
           "automargin": true,
           "gridcolor": "white",
           "linecolor": "white",
           "ticks": "",
           "zerolinecolor": "white",
           "zerolinewidth": 2
          },
          "yaxis": {
           "automargin": true,
           "gridcolor": "white",
           "linecolor": "white",
           "ticks": "",
           "zerolinecolor": "white",
           "zerolinewidth": 2
          }
         }
        },
        "title": {
         "text": "Total Employment in Data Related Professions in USA"
        }
       }
      },
      "text/html": [
       "<div>\n",
       "        \n",
       "        \n",
       "            <div id=\"71368ee7-c79e-4737-b789-7685b911f878\" class=\"plotly-graph-div\" style=\"height:525px; width:100%;\"></div>\n",
       "            <script type=\"text/javascript\">\n",
       "                require([\"plotly\"], function(Plotly) {\n",
       "                    window.PLOTLYENV=window.PLOTLYENV || {};\n",
       "                    \n",
       "                if (document.getElementById(\"71368ee7-c79e-4737-b789-7685b911f878\")) {\n",
       "                    Plotly.newPlot(\n",
       "                        '71368ee7-c79e-4737-b789-7685b911f878',\n",
       "                        [{\"colorbar\": {\"title\": {\"text\": \"Employment Count\"}}, \"colorscale\": [[0.0, \"rgb(243, 203, 211)\"], [0.16666666666666666, \"rgb(234, 169, 189)\"], [0.3333333333333333, \"rgb(221, 136, 172)\"], [0.5, \"rgb(202, 105, 157)\"], [0.6666666666666666, \"rgb(177, 77, 142)\"], [0.8333333333333334, \"rgb(145, 53, 125)\"], [1.0, \"rgb(108, 33, 103)\"]], \"locationmode\": \"USA-states\", \"locations\": [\"AK\", \"AL\", \"AR\", \"AZ\", \"CA\", \"CO\", \"CT\", \"DC\", \"DE\", \"FL\", \"GA\", \"HI\", \"IA\", \"ID\", \"IL\", \"IN\", \"KS\", \"KY\", \"LA\", \"MA\", \"MD\", \"ME\", \"MI\", \"MN\", \"MO\", \"MS\", \"MT\", \"NC\", \"ND\", \"NE\", \"NH\", \"NJ\", \"NM\", \"NV\", \"NY\", \"OH\", \"OK\", \"OR\", \"PA\", \"PR\", \"RI\", \"SC\", \"SD\", \"TN\", \"TX\", \"UT\", \"VA\", \"VT\", \"WA\", \"WI\", \"WV\", \"WY\"], \"type\": \"choropleth\", \"z\": [3420.0, 38970.0, 25470.0, 93840.0, 703480.0, 116650.0, 54160.0, 269460.0, 1220.0, 240780.0, 147110.0, 10580.0, 36270.0, 12310.0, 200290.0, 56000.0, 10400.0, 24810.0, 17740.0, 174120.0, 78760.0, 7390.0, 114920.0, 104400.0, 108650.0, 8080.0, 2390.0, 140910.0, 5250.0, 26120.0, 6790.0, 15160.0, 12400.0, 19850.0, 502750.0, 159850.0, 26750.0, 58840.0, 204490.0, 10370.0, 17940.0, 38710.0, 7650.0, 58880.0, 358560.0, 50110.0, 70380.0, 4920.0, 173820.0, 78050.0, 5590.0, 1000.0]}],\n",
       "                        {\"geo\": {\"scope\": \"usa\"}, \"template\": {\"data\": {\"bar\": [{\"error_x\": {\"color\": \"#2a3f5f\"}, \"error_y\": {\"color\": \"#2a3f5f\"}, \"marker\": {\"line\": {\"color\": \"#E5ECF6\", \"width\": 0.5}}, \"type\": \"bar\"}], \"barpolar\": [{\"marker\": {\"line\": {\"color\": \"#E5ECF6\", \"width\": 0.5}}, \"type\": \"barpolar\"}], \"carpet\": [{\"aaxis\": {\"endlinecolor\": \"#2a3f5f\", \"gridcolor\": \"white\", \"linecolor\": \"white\", \"minorgridcolor\": \"white\", \"startlinecolor\": \"#2a3f5f\"}, \"baxis\": {\"endlinecolor\": \"#2a3f5f\", \"gridcolor\": \"white\", \"linecolor\": \"white\", \"minorgridcolor\": \"white\", \"startlinecolor\": \"#2a3f5f\"}, \"type\": \"carpet\"}], \"choropleth\": [{\"colorbar\": {\"outlinewidth\": 0, \"ticks\": \"\"}, \"type\": \"choropleth\"}], \"contour\": [{\"colorbar\": {\"outlinewidth\": 0, \"ticks\": \"\"}, \"colorscale\": [[0.0, \"#0d0887\"], [0.1111111111111111, \"#46039f\"], [0.2222222222222222, \"#7201a8\"], [0.3333333333333333, \"#9c179e\"], [0.4444444444444444, \"#bd3786\"], [0.5555555555555556, \"#d8576b\"], [0.6666666666666666, \"#ed7953\"], [0.7777777777777778, \"#fb9f3a\"], [0.8888888888888888, \"#fdca26\"], [1.0, \"#f0f921\"]], \"type\": \"contour\"}], \"contourcarpet\": [{\"colorbar\": {\"outlinewidth\": 0, \"ticks\": \"\"}, \"type\": \"contourcarpet\"}], \"heatmap\": [{\"colorbar\": {\"outlinewidth\": 0, \"ticks\": \"\"}, \"colorscale\": [[0.0, \"#0d0887\"], [0.1111111111111111, \"#46039f\"], [0.2222222222222222, \"#7201a8\"], [0.3333333333333333, \"#9c179e\"], [0.4444444444444444, \"#bd3786\"], [0.5555555555555556, \"#d8576b\"], [0.6666666666666666, \"#ed7953\"], [0.7777777777777778, \"#fb9f3a\"], [0.8888888888888888, \"#fdca26\"], [1.0, \"#f0f921\"]], \"type\": \"heatmap\"}], \"heatmapgl\": [{\"colorbar\": {\"outlinewidth\": 0, \"ticks\": \"\"}, \"colorscale\": [[0.0, \"#0d0887\"], [0.1111111111111111, \"#46039f\"], [0.2222222222222222, \"#7201a8\"], [0.3333333333333333, \"#9c179e\"], [0.4444444444444444, \"#bd3786\"], [0.5555555555555556, \"#d8576b\"], [0.6666666666666666, \"#ed7953\"], [0.7777777777777778, \"#fb9f3a\"], [0.8888888888888888, \"#fdca26\"], [1.0, \"#f0f921\"]], \"type\": \"heatmapgl\"}], \"histogram\": [{\"marker\": {\"colorbar\": {\"outlinewidth\": 0, \"ticks\": \"\"}}, \"type\": \"histogram\"}], \"histogram2d\": [{\"colorbar\": {\"outlinewidth\": 0, \"ticks\": \"\"}, \"colorscale\": [[0.0, \"#0d0887\"], [0.1111111111111111, \"#46039f\"], [0.2222222222222222, \"#7201a8\"], [0.3333333333333333, \"#9c179e\"], [0.4444444444444444, \"#bd3786\"], [0.5555555555555556, \"#d8576b\"], [0.6666666666666666, \"#ed7953\"], [0.7777777777777778, \"#fb9f3a\"], [0.8888888888888888, \"#fdca26\"], [1.0, \"#f0f921\"]], \"type\": \"histogram2d\"}], \"histogram2dcontour\": [{\"colorbar\": {\"outlinewidth\": 0, \"ticks\": \"\"}, \"colorscale\": [[0.0, \"#0d0887\"], [0.1111111111111111, \"#46039f\"], [0.2222222222222222, \"#7201a8\"], [0.3333333333333333, \"#9c179e\"], [0.4444444444444444, \"#bd3786\"], [0.5555555555555556, \"#d8576b\"], [0.6666666666666666, \"#ed7953\"], [0.7777777777777778, \"#fb9f3a\"], [0.8888888888888888, \"#fdca26\"], [1.0, \"#f0f921\"]], \"type\": \"histogram2dcontour\"}], \"mesh3d\": [{\"colorbar\": {\"outlinewidth\": 0, \"ticks\": \"\"}, \"type\": \"mesh3d\"}], \"parcoords\": [{\"line\": {\"colorbar\": {\"outlinewidth\": 0, \"ticks\": \"\"}}, \"type\": \"parcoords\"}], \"scatter\": [{\"marker\": {\"colorbar\": {\"outlinewidth\": 0, \"ticks\": \"\"}}, \"type\": \"scatter\"}], \"scatter3d\": [{\"line\": {\"colorbar\": {\"outlinewidth\": 0, \"ticks\": \"\"}}, \"marker\": {\"colorbar\": {\"outlinewidth\": 0, \"ticks\": \"\"}}, \"type\": \"scatter3d\"}], \"scattercarpet\": [{\"marker\": {\"colorbar\": {\"outlinewidth\": 0, \"ticks\": \"\"}}, \"type\": \"scattercarpet\"}], \"scattergeo\": [{\"marker\": {\"colorbar\": {\"outlinewidth\": 0, \"ticks\": \"\"}}, \"type\": \"scattergeo\"}], \"scattergl\": [{\"marker\": {\"colorbar\": {\"outlinewidth\": 0, \"ticks\": \"\"}}, \"type\": \"scattergl\"}], \"scattermapbox\": [{\"marker\": {\"colorbar\": {\"outlinewidth\": 0, \"ticks\": \"\"}}, \"type\": \"scattermapbox\"}], \"scatterpolar\": [{\"marker\": {\"colorbar\": {\"outlinewidth\": 0, \"ticks\": \"\"}}, \"type\": \"scatterpolar\"}], \"scatterpolargl\": [{\"marker\": {\"colorbar\": {\"outlinewidth\": 0, \"ticks\": \"\"}}, \"type\": \"scatterpolargl\"}], \"scatterternary\": [{\"marker\": {\"colorbar\": {\"outlinewidth\": 0, \"ticks\": \"\"}}, \"type\": \"scatterternary\"}], \"surface\": [{\"colorbar\": {\"outlinewidth\": 0, \"ticks\": \"\"}, \"colorscale\": [[0.0, \"#0d0887\"], [0.1111111111111111, \"#46039f\"], [0.2222222222222222, \"#7201a8\"], [0.3333333333333333, \"#9c179e\"], [0.4444444444444444, \"#bd3786\"], [0.5555555555555556, \"#d8576b\"], [0.6666666666666666, \"#ed7953\"], [0.7777777777777778, \"#fb9f3a\"], [0.8888888888888888, \"#fdca26\"], [1.0, \"#f0f921\"]], \"type\": \"surface\"}], \"table\": [{\"cells\": {\"fill\": {\"color\": \"#EBF0F8\"}, \"line\": {\"color\": \"white\"}}, \"header\": {\"fill\": {\"color\": \"#C8D4E3\"}, \"line\": {\"color\": \"white\"}}, \"type\": \"table\"}]}, \"layout\": {\"annotationdefaults\": {\"arrowcolor\": \"#2a3f5f\", \"arrowhead\": 0, \"arrowwidth\": 1}, \"colorscale\": {\"diverging\": [[0, \"#8e0152\"], [0.1, \"#c51b7d\"], [0.2, \"#de77ae\"], [0.3, \"#f1b6da\"], [0.4, \"#fde0ef\"], [0.5, \"#f7f7f7\"], [0.6, \"#e6f5d0\"], [0.7, \"#b8e186\"], [0.8, \"#7fbc41\"], [0.9, \"#4d9221\"], [1, \"#276419\"]], \"sequential\": [[0.0, \"#0d0887\"], [0.1111111111111111, \"#46039f\"], [0.2222222222222222, \"#7201a8\"], [0.3333333333333333, \"#9c179e\"], [0.4444444444444444, \"#bd3786\"], [0.5555555555555556, \"#d8576b\"], [0.6666666666666666, \"#ed7953\"], [0.7777777777777778, \"#fb9f3a\"], [0.8888888888888888, \"#fdca26\"], [1.0, \"#f0f921\"]], \"sequentialminus\": [[0.0, \"#0d0887\"], [0.1111111111111111, \"#46039f\"], [0.2222222222222222, \"#7201a8\"], [0.3333333333333333, \"#9c179e\"], [0.4444444444444444, \"#bd3786\"], [0.5555555555555556, \"#d8576b\"], [0.6666666666666666, \"#ed7953\"], [0.7777777777777778, \"#fb9f3a\"], [0.8888888888888888, \"#fdca26\"], [1.0, \"#f0f921\"]]}, \"colorway\": [\"#636efa\", \"#EF553B\", \"#00cc96\", \"#ab63fa\", \"#FFA15A\", \"#19d3f3\", \"#FF6692\", \"#B6E880\", \"#FF97FF\", \"#FECB52\"], \"font\": {\"color\": \"#2a3f5f\"}, \"geo\": {\"bgcolor\": \"white\", \"lakecolor\": \"white\", \"landcolor\": \"#E5ECF6\", \"showlakes\": true, \"showland\": true, \"subunitcolor\": \"white\"}, \"hoverlabel\": {\"align\": \"left\"}, \"hovermode\": \"closest\", \"mapbox\": {\"style\": \"light\"}, \"paper_bgcolor\": \"white\", \"plot_bgcolor\": \"#E5ECF6\", \"polar\": {\"angularaxis\": {\"gridcolor\": \"white\", \"linecolor\": \"white\", \"ticks\": \"\"}, \"bgcolor\": \"#E5ECF6\", \"radialaxis\": {\"gridcolor\": \"white\", \"linecolor\": \"white\", \"ticks\": \"\"}}, \"scene\": {\"xaxis\": {\"backgroundcolor\": \"#E5ECF6\", \"gridcolor\": \"white\", \"gridwidth\": 2, \"linecolor\": \"white\", \"showbackground\": true, \"ticks\": \"\", \"zerolinecolor\": \"white\"}, \"yaxis\": {\"backgroundcolor\": \"#E5ECF6\", \"gridcolor\": \"white\", \"gridwidth\": 2, \"linecolor\": \"white\", \"showbackground\": true, \"ticks\": \"\", \"zerolinecolor\": \"white\"}, \"zaxis\": {\"backgroundcolor\": \"#E5ECF6\", \"gridcolor\": \"white\", \"gridwidth\": 2, \"linecolor\": \"white\", \"showbackground\": true, \"ticks\": \"\", \"zerolinecolor\": \"white\"}}, \"shapedefaults\": {\"line\": {\"color\": \"#2a3f5f\"}}, \"ternary\": {\"aaxis\": {\"gridcolor\": \"white\", \"linecolor\": \"white\", \"ticks\": \"\"}, \"baxis\": {\"gridcolor\": \"white\", \"linecolor\": \"white\", \"ticks\": \"\"}, \"bgcolor\": \"#E5ECF6\", \"caxis\": {\"gridcolor\": \"white\", \"linecolor\": \"white\", \"ticks\": \"\"}}, \"title\": {\"x\": 0.05}, \"xaxis\": {\"automargin\": true, \"gridcolor\": \"white\", \"linecolor\": \"white\", \"ticks\": \"\", \"zerolinecolor\": \"white\", \"zerolinewidth\": 2}, \"yaxis\": {\"automargin\": true, \"gridcolor\": \"white\", \"linecolor\": \"white\", \"ticks\": \"\", \"zerolinecolor\": \"white\", \"zerolinewidth\": 2}}}, \"title\": {\"text\": \"Total Employment in Data Related Professions in USA\"}},\n",
       "                        {\"responsive\": true}\n",
       "                    ).then(function(){\n",
       "                            \n",
       "var gd = document.getElementById('71368ee7-c79e-4737-b789-7685b911f878');\n",
       "var x = new MutationObserver(function (mutations, observer) {{\n",
       "        var display = window.getComputedStyle(gd).display;\n",
       "        if (!display || display === 'none') {{\n",
       "            console.log([gd, 'removed!']);\n",
       "            Plotly.purge(gd);\n",
       "            observer.disconnect();\n",
       "        }}\n",
       "}});\n",
       "\n",
       "// Listen for the removal of the full notebook cells\n",
       "var notebookContainer = gd.closest('#notebook-container');\n",
       "if (notebookContainer) {{\n",
       "    x.observe(notebookContainer, {childList: true});\n",
       "}}\n",
       "\n",
       "// Listen for the clearing of the current output cell\n",
       "var outputEl = gd.closest('.output');\n",
       "if (outputEl) {{\n",
       "    x.observe(outputEl, {childList: true});\n",
       "}}\n",
       "\n",
       "                        })\n",
       "                };\n",
       "                });\n",
       "            </script>\n",
       "        </div>"
      ]
     },
     "metadata": {},
     "output_type": "display_data"
    }
   ],
   "source": [
    "#create plot for map data on total employment by state\n",
    "emp_plot = go.Figure(data=go.Choropleth(\n",
    "    locations=bystatesummary_df[\"State\"],\n",
    "    z = statesum,\n",
    "    locationmode = 'USA-states',\n",
    "    colorscale = 'magenta',\n",
    "    colorbar_title = \"Employment Count\",\n",
    "))\n",
    "\n",
    "emp_plot.update_layout(\n",
    "    title_text = 'Total Employment in Data Related Professions in USA',\n",
    "    geo_scope='usa',\n",
    ")\n",
    "\n",
    "emp_plot.show()"
   ]
  },
  {
   "cell_type": "code",
   "execution_count": 37,
   "metadata": {
    "scrolled": false
   },
   "outputs": [
    {
     "data": {
      "text/html": [
       "<div>\n",
       "<style scoped>\n",
       "    .dataframe tbody tr th:only-of-type {\n",
       "        vertical-align: middle;\n",
       "    }\n",
       "\n",
       "    .dataframe tbody tr th {\n",
       "        vertical-align: top;\n",
       "    }\n",
       "\n",
       "    .dataframe thead th {\n",
       "        text-align: right;\n",
       "    }\n",
       "</style>\n",
       "<table border=\"1\" class=\"dataframe\">\n",
       "  <thead>\n",
       "    <tr style=\"text-align: right;\">\n",
       "      <th></th>\n",
       "      <th>State</th>\n",
       "      <th>Total Employment</th>\n",
       "      <th>Annual Salary Average</th>\n",
       "      <th>Annual Salary Median</th>\n",
       "    </tr>\n",
       "    <tr>\n",
       "      <th>PRIM_STATE</th>\n",
       "      <th></th>\n",
       "      <th></th>\n",
       "      <th></th>\n",
       "      <th></th>\n",
       "    </tr>\n",
       "  </thead>\n",
       "  <tbody>\n",
       "    <tr>\n",
       "      <th>CA</th>\n",
       "      <td>CA</td>\n",
       "      <td>703480.0</td>\n",
       "      <td>90707.838710</td>\n",
       "      <td>85575.0</td>\n",
       "    </tr>\n",
       "    <tr>\n",
       "      <th>NY</th>\n",
       "      <td>NY</td>\n",
       "      <td>502750.0</td>\n",
       "      <td>84612.837838</td>\n",
       "      <td>76330.0</td>\n",
       "    </tr>\n",
       "    <tr>\n",
       "      <th>TX</th>\n",
       "      <td>TX</td>\n",
       "      <td>358560.0</td>\n",
       "      <td>82006.442688</td>\n",
       "      <td>74320.0</td>\n",
       "    </tr>\n",
       "    <tr>\n",
       "      <th>DC</th>\n",
       "      <td>DC</td>\n",
       "      <td>269460.0</td>\n",
       "      <td>106968.888889</td>\n",
       "      <td>101050.0</td>\n",
       "    </tr>\n",
       "    <tr>\n",
       "      <th>FL</th>\n",
       "      <td>FL</td>\n",
       "      <td>240780.0</td>\n",
       "      <td>76738.167939</td>\n",
       "      <td>70340.0</td>\n",
       "    </tr>\n",
       "  </tbody>\n",
       "</table>\n",
       "</div>"
      ],
      "text/plain": [
       "           State  Total Employment  Annual Salary Average  \\\n",
       "PRIM_STATE                                                  \n",
       "CA            CA          703480.0           90707.838710   \n",
       "NY            NY          502750.0           84612.837838   \n",
       "TX            TX          358560.0           82006.442688   \n",
       "DC            DC          269460.0          106968.888889   \n",
       "FL            FL          240780.0           76738.167939   \n",
       "\n",
       "            Annual Salary Median  \n",
       "PRIM_STATE                        \n",
       "CA                       85575.0  \n",
       "NY                       76330.0  \n",
       "TX                       74320.0  \n",
       "DC                      101050.0  \n",
       "FL                       70340.0  "
      ]
     },
     "execution_count": 37,
     "metadata": {},
     "output_type": "execute_result"
    }
   ],
   "source": [
    "#finding areas with the most employment\n",
    "bystatesummary_df = bystatesummary_df.sort_values('Total Employment', ascending = False)\n",
    "bystatesummary_df.head()"
   ]
  },
  {
   "cell_type": "code",
   "execution_count": 17,
   "metadata": {},
   "outputs": [
    {
     "data": {
      "text/html": [
       "<div>\n",
       "<style scoped>\n",
       "    .dataframe tbody tr th:only-of-type {\n",
       "        vertical-align: middle;\n",
       "    }\n",
       "\n",
       "    .dataframe tbody tr th {\n",
       "        vertical-align: top;\n",
       "    }\n",
       "\n",
       "    .dataframe thead th {\n",
       "        text-align: right;\n",
       "    }\n",
       "</style>\n",
       "<table border=\"1\" class=\"dataframe\">\n",
       "  <thead>\n",
       "    <tr style=\"text-align: right;\">\n",
       "      <th></th>\n",
       "      <th>State</th>\n",
       "      <th>Total Employment</th>\n",
       "      <th>Annual Salary Average</th>\n",
       "      <th>Annual Salary Median</th>\n",
       "    </tr>\n",
       "    <tr>\n",
       "      <th>PRIM_STATE</th>\n",
       "      <th></th>\n",
       "      <th></th>\n",
       "      <th></th>\n",
       "      <th></th>\n",
       "    </tr>\n",
       "  </thead>\n",
       "  <tbody>\n",
       "    <tr>\n",
       "      <th>WY</th>\n",
       "      <td>WY</td>\n",
       "      <td>1000.0</td>\n",
       "      <td>71338.461538</td>\n",
       "      <td>63960.0</td>\n",
       "    </tr>\n",
       "    <tr>\n",
       "      <th>DE</th>\n",
       "      <td>DE</td>\n",
       "      <td>1220.0</td>\n",
       "      <td>76295.000000</td>\n",
       "      <td>68255.0</td>\n",
       "    </tr>\n",
       "    <tr>\n",
       "      <th>MT</th>\n",
       "      <td>MT</td>\n",
       "      <td>2390.0</td>\n",
       "      <td>65490.869565</td>\n",
       "      <td>57590.0</td>\n",
       "    </tr>\n",
       "    <tr>\n",
       "      <th>AK</th>\n",
       "      <td>AK</td>\n",
       "      <td>3420.0</td>\n",
       "      <td>82139.000000</td>\n",
       "      <td>77655.0</td>\n",
       "    </tr>\n",
       "    <tr>\n",
       "      <th>VT</th>\n",
       "      <td>VT</td>\n",
       "      <td>4920.0</td>\n",
       "      <td>81649.411765</td>\n",
       "      <td>78050.0</td>\n",
       "    </tr>\n",
       "  </tbody>\n",
       "</table>\n",
       "</div>"
      ],
      "text/plain": [
       "           State  Total Employment  Annual Salary Average  \\\n",
       "PRIM_STATE                                                  \n",
       "WY            WY            1000.0           71338.461538   \n",
       "DE            DE            1220.0           76295.000000   \n",
       "MT            MT            2390.0           65490.869565   \n",
       "AK            AK            3420.0           82139.000000   \n",
       "VT            VT            4920.0           81649.411765   \n",
       "\n",
       "            Annual Salary Median  \n",
       "PRIM_STATE                        \n",
       "WY                       63960.0  \n",
       "DE                       68255.0  \n",
       "MT                       57590.0  \n",
       "AK                       77655.0  \n",
       "VT                       78050.0  "
      ]
     },
     "execution_count": 17,
     "metadata": {},
     "output_type": "execute_result"
    }
   ],
   "source": [
    "#finding areas with the least employment\n",
    "bystatesummary_df = bystatesummary_df.sort_values('Total Employment')\n",
    "bystatesummary_df.head()"
   ]
  },
  {
   "cell_type": "code",
   "execution_count": 18,
   "metadata": {
    "scrolled": true
   },
   "outputs": [
    {
     "data": {
      "text/html": [
       "<div>\n",
       "<style scoped>\n",
       "    .dataframe tbody tr th:only-of-type {\n",
       "        vertical-align: middle;\n",
       "    }\n",
       "\n",
       "    .dataframe tbody tr th {\n",
       "        vertical-align: top;\n",
       "    }\n",
       "\n",
       "    .dataframe thead th {\n",
       "        text-align: right;\n",
       "    }\n",
       "</style>\n",
       "<table border=\"1\" class=\"dataframe\">\n",
       "  <thead>\n",
       "    <tr style=\"text-align: right;\">\n",
       "      <th></th>\n",
       "      <th>State</th>\n",
       "      <th>Total Employment</th>\n",
       "      <th>Annual Salary Average</th>\n",
       "      <th>Annual Salary Median</th>\n",
       "    </tr>\n",
       "    <tr>\n",
       "      <th>PRIM_STATE</th>\n",
       "      <th></th>\n",
       "      <th></th>\n",
       "      <th></th>\n",
       "      <th></th>\n",
       "    </tr>\n",
       "  </thead>\n",
       "  <tbody>\n",
       "    <tr>\n",
       "      <th>PR</th>\n",
       "      <td>PR</td>\n",
       "      <td>10370.0</td>\n",
       "      <td>46768.260870</td>\n",
       "      <td>43310.0</td>\n",
       "    </tr>\n",
       "    <tr>\n",
       "      <th>MT</th>\n",
       "      <td>MT</td>\n",
       "      <td>2390.0</td>\n",
       "      <td>65490.869565</td>\n",
       "      <td>57590.0</td>\n",
       "    </tr>\n",
       "    <tr>\n",
       "      <th>LA</th>\n",
       "      <td>LA</td>\n",
       "      <td>17740.0</td>\n",
       "      <td>68606.538462</td>\n",
       "      <td>63170.0</td>\n",
       "    </tr>\n",
       "    <tr>\n",
       "      <th>AR</th>\n",
       "      <td>AR</td>\n",
       "      <td>25470.0</td>\n",
       "      <td>70065.535714</td>\n",
       "      <td>64250.0</td>\n",
       "    </tr>\n",
       "    <tr>\n",
       "      <th>WV</th>\n",
       "      <td>WV</td>\n",
       "      <td>5590.0</td>\n",
       "      <td>70226.000000</td>\n",
       "      <td>66400.0</td>\n",
       "    </tr>\n",
       "  </tbody>\n",
       "</table>\n",
       "</div>"
      ],
      "text/plain": [
       "           State  Total Employment  Annual Salary Average  \\\n",
       "PRIM_STATE                                                  \n",
       "PR            PR           10370.0           46768.260870   \n",
       "MT            MT            2390.0           65490.869565   \n",
       "LA            LA           17740.0           68606.538462   \n",
       "AR            AR           25470.0           70065.535714   \n",
       "WV            WV            5590.0           70226.000000   \n",
       "\n",
       "            Annual Salary Median  \n",
       "PRIM_STATE                        \n",
       "PR                       43310.0  \n",
       "MT                       57590.0  \n",
       "LA                       63170.0  \n",
       "AR                       64250.0  \n",
       "WV                       66400.0  "
      ]
     },
     "execution_count": 18,
     "metadata": {},
     "output_type": "execute_result"
    }
   ],
   "source": [
    "#finding areas with the lowest salary\n",
    "bystatesummary_df = bystatesummary_df.sort_values('Annual Salary Average')\n",
    "bystatesummary_df.head()"
   ]
  },
  {
   "cell_type": "code",
   "execution_count": 19,
   "metadata": {
    "scrolled": false
   },
   "outputs": [
    {
     "data": {
      "text/html": [
       "<div>\n",
       "<style scoped>\n",
       "    .dataframe tbody tr th:only-of-type {\n",
       "        vertical-align: middle;\n",
       "    }\n",
       "\n",
       "    .dataframe tbody tr th {\n",
       "        vertical-align: top;\n",
       "    }\n",
       "\n",
       "    .dataframe thead th {\n",
       "        text-align: right;\n",
       "    }\n",
       "</style>\n",
       "<table border=\"1\" class=\"dataframe\">\n",
       "  <thead>\n",
       "    <tr style=\"text-align: right;\">\n",
       "      <th></th>\n",
       "      <th>State</th>\n",
       "      <th>Total Employment</th>\n",
       "      <th>Annual Salary Average</th>\n",
       "      <th>Annual Salary Median</th>\n",
       "    </tr>\n",
       "    <tr>\n",
       "      <th>PRIM_STATE</th>\n",
       "      <th></th>\n",
       "      <th></th>\n",
       "      <th></th>\n",
       "      <th></th>\n",
       "    </tr>\n",
       "  </thead>\n",
       "  <tbody>\n",
       "    <tr>\n",
       "      <th>DC</th>\n",
       "      <td>DC</td>\n",
       "      <td>269460.0</td>\n",
       "      <td>106968.888889</td>\n",
       "      <td>101050.0</td>\n",
       "    </tr>\n",
       "    <tr>\n",
       "      <th>CT</th>\n",
       "      <td>CT</td>\n",
       "      <td>54160.0</td>\n",
       "      <td>91438.023256</td>\n",
       "      <td>85050.0</td>\n",
       "    </tr>\n",
       "    <tr>\n",
       "      <th>RI</th>\n",
       "      <td>RI</td>\n",
       "      <td>17940.0</td>\n",
       "      <td>91410.555556</td>\n",
       "      <td>85580.0</td>\n",
       "    </tr>\n",
       "    <tr>\n",
       "      <th>CA</th>\n",
       "      <td>CA</td>\n",
       "      <td>703480.0</td>\n",
       "      <td>90707.838710</td>\n",
       "      <td>85575.0</td>\n",
       "    </tr>\n",
       "    <tr>\n",
       "      <th>NH</th>\n",
       "      <td>NH</td>\n",
       "      <td>6790.0</td>\n",
       "      <td>90663.000000</td>\n",
       "      <td>82325.0</td>\n",
       "    </tr>\n",
       "  </tbody>\n",
       "</table>\n",
       "</div>"
      ],
      "text/plain": [
       "           State  Total Employment  Annual Salary Average  \\\n",
       "PRIM_STATE                                                  \n",
       "DC            DC          269460.0          106968.888889   \n",
       "CT            CT           54160.0           91438.023256   \n",
       "RI            RI           17940.0           91410.555556   \n",
       "CA            CA          703480.0           90707.838710   \n",
       "NH            NH            6790.0           90663.000000   \n",
       "\n",
       "            Annual Salary Median  \n",
       "PRIM_STATE                        \n",
       "DC                      101050.0  \n",
       "CT                       85050.0  \n",
       "RI                       85580.0  \n",
       "CA                       85575.0  \n",
       "NH                       82325.0  "
      ]
     },
     "execution_count": 19,
     "metadata": {},
     "output_type": "execute_result"
    }
   ],
   "source": [
    "#finding areas with the highest salary\n",
    "bystatesummary_df = bystatesummary_df.sort_values('Annual Salary Average', ascending=False)\n",
    "bystatesummary_df.head()"
   ]
  },
  {
   "cell_type": "code",
   "execution_count": 20,
   "metadata": {},
   "outputs": [
    {
     "data": {
      "text/html": [
       "<div>\n",
       "<style scoped>\n",
       "    .dataframe tbody tr th:only-of-type {\n",
       "        vertical-align: middle;\n",
       "    }\n",
       "\n",
       "    .dataframe tbody tr th {\n",
       "        vertical-align: top;\n",
       "    }\n",
       "\n",
       "    .dataframe thead th {\n",
       "        text-align: right;\n",
       "    }\n",
       "</style>\n",
       "<table border=\"1\" class=\"dataframe\">\n",
       "  <thead>\n",
       "    <tr style=\"text-align: right;\">\n",
       "      <th></th>\n",
       "      <th>Average Salary</th>\n",
       "    </tr>\n",
       "  </thead>\n",
       "  <tbody>\n",
       "    <tr>\n",
       "      <th>0</th>\n",
       "      <td>79031.788767</td>\n",
       "    </tr>\n",
       "  </tbody>\n",
       "</table>\n",
       "</div>"
      ],
      "text/plain": [
       "   Average Salary\n",
       "0    79031.788767"
      ]
     },
     "execution_count": 20,
     "metadata": {},
     "output_type": "execute_result"
    }
   ],
   "source": [
    "#average among states\n",
    "salaryavg = bystatesummary_df[\"Annual Salary Average\"].mean()\n",
    "salaryavg_df = pd.DataFrame({\"Average Salary\": [salaryavg]})\n",
    "salaryavg_df"
   ]
  },
  {
   "cell_type": "code",
   "execution_count": 22,
   "metadata": {},
   "outputs": [
    {
     "data": {
      "image/png": "[encoded data removed]",
      "text/plain": [
       "<Figure size 1080x576 with 1 Axes>"
      ]
     },
     "metadata": {
      "needs_background": "light"
     },
     "output_type": "display_data"
    }
   ],
   "source": [
    "#plot state summary\n",
    "bystatesummary_df[[\"Annual Salary Average\", \"Annual Salary Median\"]].plot(kind=\"bar\", figsize = (15, 8), color=[\"teal\", \"steelblue\"], alpha=0.7)\n",
    "plt.title(\"Average Salary in Data Related Professions (BLS)\")\n",
    "plt.xlabel(\"State/District\")\n",
    "plt.ylabel(\"Salary in USD\")\n",
    "plt.savefig(\"../AverageSalarybyState.png\")"
   ]
  },
  {
   "cell_type": "code",
   "execution_count": 23,
   "metadata": {},
   "outputs": [],
   "source": [
    "#group by job titles\n",
    "jobtitlesgrouped_df = employment_df.groupby([\"OCC_TITLE\"])"
   ]
  },
  {
   "cell_type": "code",
   "execution_count": 24,
   "metadata": {},
   "outputs": [],
   "source": [
    "jobtitlessum = jobtitlesgrouped_df[\"TOT_EMP\"].sum()\n",
    "jobtitlesmean = jobtitlesgrouped_df[\"A_MEAN\"].mean()\n",
    "jobtitlesmedian = jobtitlesgrouped_df[\"A_MEDIAN\"].median()"
   ]
  },
  {
   "cell_type": "code",
   "execution_count": 30,
   "metadata": {
    "scrolled": true
   },
   "outputs": [
    {
     "data": {
      "text/html": [
       "<div>\n",
       "<style scoped>\n",
       "    .dataframe tbody tr th:only-of-type {\n",
       "        vertical-align: middle;\n",
       "    }\n",
       "\n",
       "    .dataframe tbody tr th {\n",
       "        vertical-align: top;\n",
       "    }\n",
       "\n",
       "    .dataframe thead th {\n",
       "        text-align: right;\n",
       "    }\n",
       "</style>\n",
       "<table border=\"1\" class=\"dataframe\">\n",
       "  <thead>\n",
       "    <tr style=\"text-align: right;\">\n",
       "      <th></th>\n",
       "      <th>Total Employment</th>\n",
       "      <th>Annual Salary Average</th>\n",
       "      <th>Annual Salary Median</th>\n",
       "    </tr>\n",
       "    <tr>\n",
       "      <th>OCC_TITLE</th>\n",
       "      <th></th>\n",
       "      <th></th>\n",
       "      <th></th>\n",
       "    </tr>\n",
       "  </thead>\n",
       "  <tbody>\n",
       "    <tr>\n",
       "      <th>Software Engineer</th>\n",
       "      <td>1457360.0</td>\n",
       "      <td>88915.301669</td>\n",
       "      <td>85010.0</td>\n",
       "    </tr>\n",
       "    <tr>\n",
       "      <th>Data Analyst</th>\n",
       "      <td>1426820.0</td>\n",
       "      <td>72603.062047</td>\n",
       "      <td>66860.0</td>\n",
       "    </tr>\n",
       "    <tr>\n",
       "      <th>Business Analyst</th>\n",
       "      <td>1054530.0</td>\n",
       "      <td>79585.303514</td>\n",
       "      <td>72390.0</td>\n",
       "    </tr>\n",
       "    <tr>\n",
       "      <th>Data Architect</th>\n",
       "      <td>578280.0</td>\n",
       "      <td>82871.817010</td>\n",
       "      <td>77440.0</td>\n",
       "    </tr>\n",
       "    <tr>\n",
       "      <th>Web Developer</th>\n",
       "      <td>117920.0</td>\n",
       "      <td>62917.161572</td>\n",
       "      <td>58240.0</td>\n",
       "    </tr>\n",
       "    <tr>\n",
       "      <th>Data Engineer</th>\n",
       "      <td>58130.0</td>\n",
       "      <td>103724.461538</td>\n",
       "      <td>96335.0</td>\n",
       "    </tr>\n",
       "    <tr>\n",
       "      <th>Data Scientist</th>\n",
       "      <td>23770.0</td>\n",
       "      <td>112730.862069</td>\n",
       "      <td>111850.0</td>\n",
       "    </tr>\n",
       "  </tbody>\n",
       "</table>\n",
       "</div>"
      ],
      "text/plain": [
       "                   Total Employment  Annual Salary Average  \\\n",
       "OCC_TITLE                                                    \n",
       "Software Engineer         1457360.0           88915.301669   \n",
       "Data Analyst              1426820.0           72603.062047   \n",
       "Business Analyst          1054530.0           79585.303514   \n",
       "Data Architect             578280.0           82871.817010   \n",
       "Web Developer              117920.0           62917.161572   \n",
       "Data Engineer               58130.0          103724.461538   \n",
       "Data Scientist              23770.0          112730.862069   \n",
       "\n",
       "                   Annual Salary Median  \n",
       "OCC_TITLE                                \n",
       "Software Engineer               85010.0  \n",
       "Data Analyst                    66860.0  \n",
       "Business Analyst                72390.0  \n",
       "Data Architect                  77440.0  \n",
       "Web Developer                   58240.0  \n",
       "Data Engineer                   96335.0  \n",
       "Data Scientist                 111850.0  "
      ]
     },
     "execution_count": 30,
     "metadata": {},
     "output_type": "execute_result"
    }
   ],
   "source": [
    "#create dataframe on average salaries for job titles\n",
    "jobtitles_df = pd.DataFrame({\"Total Employment\": jobtitlessum,\n",
    "                             \"Annual Salary Average\" : jobtitlesmean,\n",
    "                             \"Annual Salary Median\" : jobtitlesmedian})\n",
    "jobtitles_df = jobtitles_df.sort_values('Total Employment', ascending=False)\n",
    "jobtitles_df"
   ]
  },
  {
   "cell_type": "code",
   "execution_count": 31,
   "metadata": {
    "scrolled": false
   },
   "outputs": [
    {
     "data": {
      "image/png": "[encoded data removed]",
      "text/plain": [
       "<Figure size 720x576 with 1 Axes>"
      ]
     },
     "metadata": {
      "needs_background": "light"
     },
     "output_type": "display_data"
    }
   ],
   "source": [
    "#plot employment by job titles\n",
    "jobtitles_df[[\"Total Employment\"]].plot(kind=\"bar\", figsize = (10, 8), color=\"teal\", alpha=0.7)\n",
    "plt.title(\"Total Employment Figures by Job Title (BLS)\")\n",
    "plt.xlabel(\"Occupation Title\")\n",
    "plt.ylabel(\"Number of Recorded Jobs\")\n",
    "plt.savefig(\"../EmploymentbyJob.png\")"
   ]
  },
  {
   "cell_type": "code",
   "execution_count": 29,
   "metadata": {},
   "outputs": [
    {
     "data": {
      "image/png": "[encoded data removed]",
      "text/plain": [
       "<Figure size 720x576 with 1 Axes>"
      ]
     },
     "metadata": {
      "needs_background": "light"
     },
     "output_type": "display_data"
    }
   ],
   "source": [
    "#plot salaries by job titles\n",
    "jobtitles_df = jobtitles_df.sort_values('Annual Salary Average', ascending=False)\n",
    "jobtitles_df[[\"Annual Salary Average\", \"Annual Salary Median\"]].plot(kind=\"bar\", figsize = (10, 8), color = [\"teal\", \"steelblue\"], alpha =.7)\n",
    "plt.title(\"Average and Median Salaries by Job Title (BLS)\")\n",
    "plt.xlabel(\"Occupation Title\")\n",
    "plt.ylabel(\"Salary in USD\")\n",
    "plt.savefig(\"../AverageSalarybyJob.png\")"
   ]
  }
 ],
 "metadata": {
  "kernelspec": {
   "display_name": "Python 3",
   "language": "python",
   "name": "python3"
  },
  "language_info": {
   "codemirror_mode": {
    "name": "ipython",
    "version": 3
   },
   "file_extension": ".py",
   "mimetype": "text/x-python",
   "name": "python",
   "nbconvert_exporter": "python",
   "pygments_lexer": "ipython3",
   "version": "3.7.3"
  }
 },
 "nbformat": 4,
 "nbformat_minor": 2
}
